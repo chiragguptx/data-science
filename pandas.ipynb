{
  "nbformat": 4,
  "nbformat_minor": 0,
  "metadata": {
    "colab": {
      "provenance": [],
      "authorship_tag": "ABX9TyPjyqF9q//xFftwb9ZQo878",
      "include_colab_link": true
    },
    "kernelspec": {
      "name": "python3",
      "display_name": "Python 3"
    },
    "language_info": {
      "name": "python"
    }
  },
  "cells": [
    {
      "cell_type": "markdown",
      "metadata": {
        "id": "view-in-github",
        "colab_type": "text"
      },
      "source": [
        "<a href=\"https://colab.research.google.com/github/chiragguptx/data-science/blob/main/pandas.ipynb\" target=\"_parent\"><img src=\"https://colab.research.google.com/assets/colab-badge.svg\" alt=\"Open In Colab\"/></a>"
      ]
    },
    {
      "cell_type": "markdown",
      "source": [
        "1) raw data    2)structured data   3)tabular data(.csv file,database)\n"
      ],
      "metadata": {
        "id": "ix8RC80xfjyH"
      }
    },
    {
      "cell_type": "markdown",
      "source": [
        "IMPORT"
      ],
      "metadata": {
        "id": "s_RFdS_mfy5I"
      }
    },
    {
      "cell_type": "code",
      "source": [
        "import numpy as np\n",
        "import pandas as pd\n",
        "#version#\n",
        "pd.__version__"
      ],
      "metadata": {
        "colab": {
          "base_uri": "https://localhost:8080/",
          "height": 36
        },
        "id": "uTwm8YYqf1Qx",
        "outputId": "59b45c6c-ba3f-4880-95b9-73a731d61ecd"
      },
      "execution_count": 11,
      "outputs": [
        {
          "output_type": "execute_result",
          "data": {
            "text/plain": [
              "'1.5.3'"
            ],
            "application/vnd.google.colaboratory.intrinsic+json": {
              "type": "string"
            }
          },
          "metadata": {},
          "execution_count": 11
        }
      ]
    },
    {
      "cell_type": "markdown",
      "source": [
        "create pandas series"
      ],
      "metadata": {
        "id": "RoM8HbsLgNDs"
      }
    },
    {
      "cell_type": "code",
      "source": [
        "number_series=pd.Series([2,3,4,5,6])\n",
        "print(number_series)"
      ],
      "metadata": {
        "colab": {
          "base_uri": "https://localhost:8080/"
        },
        "id": "FwcHuuODgRVq",
        "outputId": "eba5bb73-1ecb-4f02-8d1c-6c84af49a37e"
      },
      "execution_count": 6,
      "outputs": [
        {
          "output_type": "stream",
          "name": "stdout",
          "text": [
            "0    2\n",
            "1    3\n",
            "2    4\n",
            "3    5\n",
            "4    6\n",
            "dtype: int64\n"
          ]
        }
      ]
    },
    {
      "cell_type": "code",
      "source": [
        "number_series=pd.Series([2,3,4,5,6],index=['a','b','c','d','e'])\n",
        "print(number_series)\n",
        "#retrieve data from index\n",
        "print(number_series['a'])"
      ],
      "metadata": {
        "colab": {
          "base_uri": "https://localhost:8080/"
        },
        "id": "vbv6Ov1MgelV",
        "outputId": "09c66699-b909-4b51-9a99-11e053cef3a1"
      },
      "execution_count": 12,
      "outputs": [
        {
          "output_type": "stream",
          "name": "stdout",
          "text": [
            "a    2\n",
            "b    3\n",
            "c    4\n",
            "d    5\n",
            "e    6\n",
            "dtype: int64\n",
            "2\n"
          ]
        }
      ]
    },
    {
      "cell_type": "markdown",
      "source": [
        "create pandas dataframe"
      ],
      "metadata": {
        "id": "a53mFQtpg8hG"
      }
    },
    {
      "cell_type": "code",
      "source": [
        "some_2d_array=np.random.randint(4,6,(4,4))\n",
        "first_dataframe=pd.DataFrame(some_2d_array,columns=['chirag','shourya','monica','shraye'])\n",
        "print(first_dataframe)"
      ],
      "metadata": {
        "colab": {
          "base_uri": "https://localhost:8080/"
        },
        "id": "K1e7xTMSg-jS",
        "outputId": "d65a5dae-db6f-4f94-e9b3-4ecebe741ab7"
      },
      "execution_count": 17,
      "outputs": [
        {
          "output_type": "stream",
          "name": "stdout",
          "text": [
            "   chirag  shourya  monica  shraye\n",
            "0       4        5       4       4\n",
            "1       4        4       4       5\n",
            "2       5        5       4       5\n",
            "3       5        5       4       4\n"
          ]
        }
      ]
    },
    {
      "cell_type": "markdown",
      "source": [
        "when index are given"
      ],
      "metadata": {
        "id": "qjIH5Lu2h5FO"
      }
    },
    {
      "cell_type": "code",
      "source": [
        "some_2d_array=np.random.randint(4,6,(4,4))\n",
        "another_dataframe=pd.DataFrame(some_2d_array,columns=['chirag','shourya','monica','shraye'],index=[1,2,3,4])\n",
        "print(another_dataframe)"
      ],
      "metadata": {
        "colab": {
          "base_uri": "https://localhost:8080/"
        },
        "id": "wN0F24uyh7zr",
        "outputId": "d6e10751-798a-4935-9987-1c2142fd21b9"
      },
      "execution_count": 18,
      "outputs": [
        {
          "output_type": "stream",
          "name": "stdout",
          "text": [
            "   chirag  shourya  monica  shraye\n",
            "1       5        4       4       5\n",
            "2       4        4       5       5\n",
            "3       5        4       4       4\n",
            "4       5        5       4       4\n"
          ]
        }
      ]
    },
    {
      "cell_type": "markdown",
      "source": [
        "conventional list of lists"
      ],
      "metadata": {
        "id": "A1Zs53DfiOuX"
      }
    },
    {
      "cell_type": "code",
      "source": [
        "lol=[['amar',10],['chirag',19],['shourya',30]]\n",
        "df=pd.DataFrame(lol,index=[1,2,3],columns=['name','age'])\n",
        "print(df)"
      ],
      "metadata": {
        "colab": {
          "base_uri": "https://localhost:8080/"
        },
        "id": "VWZKu4IsiRea",
        "outputId": "6ff290cd-9fde-416a-8618-261083222dee"
      },
      "execution_count": 21,
      "outputs": [
        {
          "output_type": "stream",
          "name": "stdout",
          "text": [
            "      name  age\n",
            "1     amar   10\n",
            "2   chirag   19\n",
            "3  shourya   30\n"
          ]
        }
      ]
    },
    {
      "cell_type": "markdown",
      "source": [
        "using a dictionary"
      ],
      "metadata": {
        "id": "ppUe-Z7ajEHA"
      }
    },
    {
      "cell_type": "code",
      "source": [
        "emp_dict={'employee name':['chirag','shourya','kavya'],'income':[20000,108393,18278]}\n",
        "emp_df=pd.DataFrame(emp_dict,index=[1,2,3])\n",
        "print(emp_df)"
      ],
      "metadata": {
        "colab": {
          "base_uri": "https://localhost:8080/"
        },
        "id": "Keu0v1k3jISY",
        "outputId": "3cdeae16-ee05-4f59-88b6-5a0ec0505721"
      },
      "execution_count": 22,
      "outputs": [
        {
          "output_type": "stream",
          "name": "stdout",
          "text": [
            "  employee name  income\n",
            "1        chirag   20000\n",
            "2       shourya  108393\n",
            "3         kavya   18278\n"
          ]
        }
      ]
    },
    {
      "cell_type": "markdown",
      "source": [
        "using a list of dictionaries"
      ],
      "metadata": {
        "id": "r37f1pUZjzPt"
      }
    },
    {
      "cell_type": "code",
      "source": [
        "lod=[{'a':1,'b':2,'c':3},{'a':10,'b':20,'c':30}]\n",
        "df=pd.DataFrame(lod)\n",
        "print(df)"
      ],
      "metadata": {
        "colab": {
          "base_uri": "https://localhost:8080/"
        },
        "id": "Z7CBgLruj4G5",
        "outputId": "97e7e23c-bc76-4c03-da8b-3bac3c50ed5d"
      },
      "execution_count": 26,
      "outputs": [
        {
          "output_type": "stream",
          "name": "stdout",
          "text": [
            "    a   b   c\n",
            "0   1   2   3\n",
            "1  10  20  30\n"
          ]
        }
      ]
    },
    {
      "cell_type": "markdown",
      "source": [
        "if number of keys are different"
      ],
      "metadata": {
        "id": "CiqJXFRrk5yu"
      }
    },
    {
      "cell_type": "code",
      "source": [
        "lod=[{'a':1,'b':2},{'a':10,'b':20,'c':30}]\n",
        "df=pd.DataFrame(lod)\n",
        "print(df)"
      ],
      "metadata": {
        "colab": {
          "base_uri": "https://localhost:8080/"
        },
        "id": "zQ3KC9KVk8St",
        "outputId": "0c8b9e36-263c-4813-cf9a-89c6080ff322"
      },
      "execution_count": 27,
      "outputs": [
        {
          "output_type": "stream",
          "name": "stdout",
          "text": [
            "    a   b     c\n",
            "0   1   2   NaN\n",
            "1  10  20  30.0\n"
          ]
        }
      ]
    },
    {
      "cell_type": "markdown",
      "source": [
        "otherway of doing it"
      ],
      "metadata": {
        "id": "RNbIcsPWlDek"
      }
    },
    {
      "cell_type": "code",
      "source": [
        "actor_name=['ray','chirag','shourya','manik']\n",
        "actor_age=[22,32,43,np.NaN]\n",
        "list_of_tuples=list(zip(actor_name,actor_age))\n",
        "actor_df=pd.DataFrame(list_of_tuples,columns=['name','age'])\n",
        "print(actor_df)"
      ],
      "metadata": {
        "colab": {
          "base_uri": "https://localhost:8080/"
        },
        "id": "I4O6HKd3lFqd",
        "outputId": "43da91ca-0b15-47b0-bf2d-9e2173d1969f"
      },
      "execution_count": 28,
      "outputs": [
        {
          "output_type": "stream",
          "name": "stdout",
          "text": [
            "      name   age\n",
            "0      ray  22.0\n",
            "1   chirag  32.0\n",
            "2  shourya  43.0\n",
            "3    manik   NaN\n"
          ]
        }
      ]
    },
    {
      "cell_type": "markdown",
      "source": [
        "dataframe with 100 rows and 5 columns"
      ],
      "metadata": {
        "id": "ArTZoKJOlpVl"
      }
    },
    {
      "cell_type": "code",
      "source": [
        "our_array=np.random.randn(100,5)\n",
        "df=pd.DataFrame(our_array,columns=['a','b','c','d','e'])\n",
        "print(df)"
      ],
      "metadata": {
        "colab": {
          "base_uri": "https://localhost:8080/"
        },
        "id": "pGZh2Qndls3u",
        "outputId": "64579060-29cc-44ac-c735-ba47f601b2fa"
      },
      "execution_count": 29,
      "outputs": [
        {
          "output_type": "stream",
          "name": "stdout",
          "text": [
            "           a         b         c         d         e\n",
            "0   0.643748 -0.890561  1.075008  1.405205 -1.779147\n",
            "1   0.032781 -0.013506 -1.759403  1.347330  0.701545\n",
            "2  -0.328192  0.425644  0.287670 -0.163978 -0.398751\n",
            "3   0.165940 -0.380523 -1.307761 -0.490968 -0.314371\n",
            "4   0.770857 -1.810328  0.899245 -0.495844 -1.042702\n",
            "..       ...       ...       ...       ...       ...\n",
            "95 -0.185053 -0.400217  0.192806  0.606961  1.971208\n",
            "96  0.089285  0.288156 -0.378785 -0.119949  0.384125\n",
            "97 -0.439432 -1.568353  0.393212  1.130351 -0.803034\n",
            "98  0.309649  1.262431 -0.553435  1.921920  1.277435\n",
            "99 -1.537280 -2.198887  0.006923 -1.301533 -1.239285\n",
            "\n",
            "[100 rows x 5 columns]\n"
          ]
        }
      ]
    }
  ]
}