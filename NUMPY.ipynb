{
  "nbformat": 4,
  "nbformat_minor": 0,
  "metadata": {
    "colab": {
      "provenance": [],
      "authorship_tag": "ABX9TyOhM5EZ6Mh7FElhlwVBdd3J",
      "include_colab_link": true
    },
    "kernelspec": {
      "name": "python3",
      "display_name": "Python 3"
    },
    "language_info": {
      "name": "python"
    }
  },
  "cells": [
    {
      "cell_type": "markdown",
      "metadata": {
        "id": "view-in-github",
        "colab_type": "text"
      },
      "source": [
        "<a href=\"https://colab.research.google.com/github/chiragguptx/data-science/blob/main/NUMPY.ipynb\" target=\"_parent\"><img src=\"https://colab.research.google.com/assets/colab-badge.svg\" alt=\"Open In Colab\"/></a>"
      ]
    },
    {
      "cell_type": "markdown",
      "source": [
        "[NUMPY]\n",
        "'numerical python'\n",
        "consists of multi dimensional arrays ,objects ,collection of routines\n",
        "vector/ matrix"
      ],
      "metadata": {
        "id": "I0srwJP3QM1u"
      }
    },
    {
      "cell_type": "markdown",
      "source": [
        "to import numpy"
      ],
      "metadata": {
        "id": "EPlv2DDGQbxh"
      }
    },
    {
      "cell_type": "code",
      "source": [
        "import numpy as np"
      ],
      "metadata": {
        "id": "Tr85oL97Qef5"
      },
      "execution_count": 1,
      "outputs": []
    },
    {
      "cell_type": "markdown",
      "source": [
        "one dimensional array"
      ],
      "metadata": {
        "id": "C9oL1U2JQjrB"
      }
    },
    {
      "cell_type": "code",
      "source": [
        "prime_array=np.array([2,3,5,7,99])\n",
        "print(prime_array)\n",
        "print(type(prime_array))\n"
      ],
      "metadata": {
        "colab": {
          "base_uri": "https://localhost:8080/"
        },
        "id": "8PsV9LFTQn0n",
        "outputId": "7591207d-0335-47f3-8305-a2e0c266d42f"
      },
      "execution_count": 3,
      "outputs": [
        {
          "output_type": "stream",
          "name": "stdout",
          "text": [
            "[ 2  3  5  7 99]\n",
            "<class 'numpy.ndarray'>\n"
          ]
        }
      ]
    },
    {
      "cell_type": "markdown",
      "source": [
        "two dimensional array"
      ],
      "metadata": {
        "id": "Fh7k6WENQ5Ci"
      }
    },
    {
      "cell_type": "code",
      "source": [
        "newarray=np.array([[2,3],[7,99]])\n",
        "print(newarray)"
      ],
      "metadata": {
        "colab": {
          "base_uri": "https://localhost:8080/"
        },
        "id": "o9OBqiivQ7QZ",
        "outputId": "f0b2ddb7-00ad-40ae-cf9b-7951dbaddd6d"
      },
      "execution_count": 6,
      "outputs": [
        {
          "output_type": "stream",
          "name": "stdout",
          "text": [
            "[[ 2  3]\n",
            " [ 7 99]]\n"
          ]
        }
      ]
    },
    {
      "cell_type": "markdown",
      "source": [
        "three dimensional array"
      ],
      "metadata": {
        "id": "dj3jEQhCRN4C"
      }
    },
    {
      "cell_type": "code",
      "source": [
        "threed_array=np.array([[[1,2],[3,4]],[[5,6],[7,8]]])\n",
        "print(threed_array)"
      ],
      "metadata": {
        "colab": {
          "base_uri": "https://localhost:8080/"
        },
        "id": "6MQW6_LGRP1l",
        "outputId": "f6f32dfd-1185-4290-f4c5-d446719f9039"
      },
      "execution_count": 9,
      "outputs": [
        {
          "output_type": "stream",
          "name": "stdout",
          "text": [
            "[[[1 2]\n",
            "  [3 4]]\n",
            "\n",
            " [[5 6]\n",
            "  [7 8]]]\n"
          ]
        }
      ]
    },
    {
      "cell_type": "code",
      "source": [
        "print(threed_array.shape)"
      ],
      "metadata": {
        "colab": {
          "base_uri": "https://localhost:8080/"
        },
        "id": "f6TBKlUtRqrQ",
        "outputId": "cc518889-ba34-4a7f-8586-afc8d6415012"
      },
      "execution_count": 10,
      "outputs": [
        {
          "output_type": "stream",
          "name": "stdout",
          "text": [
            "(2, 2, 2)\n"
          ]
        }
      ]
    },
    {
      "cell_type": "markdown",
      "source": [
        "[ARRAY INSPECTION]"
      ],
      "metadata": {
        "id": "oHm7Zb2pdFHs"
      }
    },
    {
      "cell_type": "markdown",
      "source": [
        "ndarray.shape-- returns tuple consisting of array dimensions"
      ],
      "metadata": {
        "id": "VJs8QiE5dLAI"
      }
    },
    {
      "cell_type": "code",
      "source": [
        "new_array=np.array([[2,3,4],[4,5,6]])\n",
        "print(new_array.shape)"
      ],
      "metadata": {
        "colab": {
          "base_uri": "https://localhost:8080/"
        },
        "id": "z6qoPdpQdVOH",
        "outputId": "0c678176-91ea-40af-a17e-17e9fa60702e"
      },
      "execution_count": 11,
      "outputs": [
        {
          "output_type": "stream",
          "name": "stdout",
          "text": [
            "(2, 3)\n"
          ]
        }
      ]
    },
    {
      "cell_type": "markdown",
      "source": [
        "2) ndarrayy.ndim-- returns number of array dimension"
      ],
      "metadata": {
        "id": "6r_T8W_Zdw6w"
      }
    },
    {
      "cell_type": "code",
      "source": [
        "array_of_interger=np.array([0,1,2,3,4,5,6,7,8,9])\n",
        "print(array_of_interger.ndim)"
      ],
      "metadata": {
        "colab": {
          "base_uri": "https://localhost:8080/"
        },
        "id": "Vz9BmY2Yd6rt",
        "outputId": "b5d77444-9a01-473a-cc6b-ff5a6a2425b7"
      },
      "execution_count": 12,
      "outputs": [
        {
          "output_type": "stream",
          "name": "stdout",
          "text": [
            "1\n"
          ]
        }
      ]
    },
    {
      "cell_type": "markdown",
      "source": [
        "3) ndarray.size-- returns total number of elements in array"
      ],
      "metadata": {
        "id": "VOfZewsNeKjI"
      }
    },
    {
      "cell_type": "code",
      "source": [
        "array_of_interger=np.array([0,1,2,3,4,5,6,7,8,9])\n",
        "print(array_of_interger.size)"
      ],
      "metadata": {
        "colab": {
          "base_uri": "https://localhost:8080/"
        },
        "id": "Kn7ZRAA-eSNk",
        "outputId": "50a39222-9d9c-4ced-deb5-e20482d15921"
      },
      "execution_count": 13,
      "outputs": [
        {
          "output_type": "stream",
          "name": "stdout",
          "text": [
            "10\n"
          ]
        }
      ]
    },
    {
      "cell_type": "markdown",
      "source": [
        "4) ndarray.dtype-- returns datatype of the array"
      ],
      "metadata": {
        "id": "WgUY-xnVeYaK"
      }
    },
    {
      "cell_type": "code",
      "source": [
        "array_of_interger=np.array([0,1,2,3,4,5,6,7,8,9])\n",
        "print(array_of_interger.dtype)"
      ],
      "metadata": {
        "colab": {
          "base_uri": "https://localhost:8080/"
        },
        "id": "vYm17C2aed5O",
        "outputId": "37b69c2f-3443-417f-a212-08245cb5c897"
      },
      "execution_count": 16,
      "outputs": [
        {
          "output_type": "stream",
          "name": "stdout",
          "text": [
            "int64\n"
          ]
        }
      ]
    },
    {
      "cell_type": "markdown",
      "source": [
        "5) ndarray.astype-- change the datatype of array"
      ],
      "metadata": {
        "id": "02FPVYxeenHO"
      }
    },
    {
      "cell_type": "code",
      "source": [
        "new=np.array([2,3,4])\n",
        "new_arr=new.astype('float64')\n",
        "print(new_arr)\n",
        "print(new_arr.dtype)"
      ],
      "metadata": {
        "colab": {
          "base_uri": "https://localhost:8080/"
        },
        "id": "IDgmpwE9exMK",
        "outputId": "f5f205cd-063a-4e36-e696-5c5d17533063"
      },
      "execution_count": 18,
      "outputs": [
        {
          "output_type": "stream",
          "name": "stdout",
          "text": [
            "[2. 3. 4.]\n",
            "float64\n"
          ]
        }
      ]
    }
  ]
}