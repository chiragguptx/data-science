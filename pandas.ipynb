{
  "nbformat": 4,
  "nbformat_minor": 0,
  "metadata": {
    "colab": {
      "provenance": [],
      "authorship_tag": "ABX9TyMOA5baYuW2WX0EobrfEuwB",
      "include_colab_link": true
    },
    "kernelspec": {
      "name": "python3",
      "display_name": "Python 3"
    },
    "language_info": {
      "name": "python"
    }
  },
  "cells": [
    {
      "cell_type": "markdown",
      "metadata": {
        "id": "view-in-github",
        "colab_type": "text"
      },
      "source": [
        "<a href=\"https://colab.research.google.com/github/chiragguptx/data-science/blob/main/pandas.ipynb\" target=\"_parent\"><img src=\"https://colab.research.google.com/assets/colab-badge.svg\" alt=\"Open In Colab\"/></a>"
      ]
    },
    {
      "cell_type": "markdown",
      "source": [
        "1) raw data    2)structured data   3)tabular data(.csv file,database)\n"
      ],
      "metadata": {
        "id": "ix8RC80xfjyH"
      }
    },
    {
      "cell_type": "markdown",
      "source": [
        "IMPORT"
      ],
      "metadata": {
        "id": "s_RFdS_mfy5I"
      }
    },
    {
      "cell_type": "code",
      "source": [
        "import numpy as np\n",
        "import pandas as pd\n",
        "#version#\n",
        "pd.__version__"
      ],
      "metadata": {
        "colab": {
          "base_uri": "https://localhost:8080/",
          "height": 36
        },
        "id": "uTwm8YYqf1Qx",
        "outputId": "3e095263-8a2d-40ea-aa90-218b93ef8ce0"
      },
      "execution_count": 3,
      "outputs": [
        {
          "output_type": "execute_result",
          "data": {
            "text/plain": [
              "'1.5.3'"
            ],
            "application/vnd.google.colaboratory.intrinsic+json": {
              "type": "string"
            }
          },
          "metadata": {},
          "execution_count": 3
        }
      ]
    },
    {
      "cell_type": "markdown",
      "source": [
        "create pandas series"
      ],
      "metadata": {
        "id": "RoM8HbsLgNDs"
      }
    },
    {
      "cell_type": "code",
      "source": [
        "number_series=pd.Series([2,3,4,5,6])\n",
        "print(number_series)"
      ],
      "metadata": {
        "colab": {
          "base_uri": "https://localhost:8080/"
        },
        "id": "FwcHuuODgRVq",
        "outputId": "2e1b0c61-816a-44c3-ba8e-36ead1a84ce2"
      },
      "execution_count": 4,
      "outputs": [
        {
          "output_type": "stream",
          "name": "stdout",
          "text": [
            "0    2\n",
            "1    3\n",
            "2    4\n",
            "3    5\n",
            "4    6\n",
            "dtype: int64\n"
          ]
        }
      ]
    },
    {
      "cell_type": "code",
      "source": [
        "number_series=pd.Series([2,3,4,5,6],index=['a','b','c','d','e'])\n",
        "print(number_series)\n",
        "#retrieve data from index\n",
        "print(number_series['a'])"
      ],
      "metadata": {
        "colab": {
          "base_uri": "https://localhost:8080/"
        },
        "id": "vbv6Ov1MgelV",
        "outputId": "f3d2b93e-d353-4552-fe89-253b05c004d0"
      },
      "execution_count": 5,
      "outputs": [
        {
          "output_type": "stream",
          "name": "stdout",
          "text": [
            "a    2\n",
            "b    3\n",
            "c    4\n",
            "d    5\n",
            "e    6\n",
            "dtype: int64\n",
            "2\n"
          ]
        }
      ]
    },
    {
      "cell_type": "markdown",
      "source": [
        "create pandas dataframe"
      ],
      "metadata": {
        "id": "a53mFQtpg8hG"
      }
    },
    {
      "cell_type": "code",
      "source": [
        "some_2d_array=np.random.randint(4,6,(4,4))\n",
        "first_dataframe=pd.DataFrame(some_2d_array,columns=['chirag','shourya','monica','shraye'])\n",
        "print(first_dataframe)"
      ],
      "metadata": {
        "colab": {
          "base_uri": "https://localhost:8080/"
        },
        "id": "K1e7xTMSg-jS",
        "outputId": "8b4cce5b-3906-4ac6-f006-ba21bd73109a"
      },
      "execution_count": 6,
      "outputs": [
        {
          "output_type": "stream",
          "name": "stdout",
          "text": [
            "   chirag  shourya  monica  shraye\n",
            "0       5        4       5       4\n",
            "1       4        5       4       4\n",
            "2       5        4       5       4\n",
            "3       5        4       4       4\n"
          ]
        }
      ]
    },
    {
      "cell_type": "markdown",
      "source": [
        "when index are given"
      ],
      "metadata": {
        "id": "qjIH5Lu2h5FO"
      }
    },
    {
      "cell_type": "code",
      "source": [
        "some_2d_array=np.random.randint(4,6,(4,4))\n",
        "another_dataframe=pd.DataFrame(some_2d_array,columns=['chirag','shourya','monica','shraye'],index=[1,2,3,4])\n",
        "print(another_dataframe)"
      ],
      "metadata": {
        "colab": {
          "base_uri": "https://localhost:8080/"
        },
        "id": "wN0F24uyh7zr",
        "outputId": "e0f366c8-79f5-4034-e271-0f2ec863e917"
      },
      "execution_count": 7,
      "outputs": [
        {
          "output_type": "stream",
          "name": "stdout",
          "text": [
            "   chirag  shourya  monica  shraye\n",
            "1       5        5       4       5\n",
            "2       5        4       5       4\n",
            "3       5        5       4       5\n",
            "4       4        4       5       4\n"
          ]
        }
      ]
    },
    {
      "cell_type": "markdown",
      "source": [
        "conventional list of lists"
      ],
      "metadata": {
        "id": "A1Zs53DfiOuX"
      }
    },
    {
      "cell_type": "code",
      "source": [
        "lol=[['amar',10],['chirag',19],['shourya',30]]\n",
        "df=pd.DataFrame(lol,index=[1,2,3],columns=['name','age'])\n",
        "print(df)"
      ],
      "metadata": {
        "colab": {
          "base_uri": "https://localhost:8080/"
        },
        "id": "VWZKu4IsiRea",
        "outputId": "c5eaab48-0fe7-4a00-b223-d85078eed5d4"
      },
      "execution_count": 8,
      "outputs": [
        {
          "output_type": "stream",
          "name": "stdout",
          "text": [
            "      name  age\n",
            "1     amar   10\n",
            "2   chirag   19\n",
            "3  shourya   30\n"
          ]
        }
      ]
    },
    {
      "cell_type": "markdown",
      "source": [
        "using a dictionary"
      ],
      "metadata": {
        "id": "ppUe-Z7ajEHA"
      }
    },
    {
      "cell_type": "code",
      "source": [
        "emp_dict={'employee name':['chirag','shourya','kavya'],'income':[20000,108393,18278]}\n",
        "emp_df=pd.DataFrame(emp_dict,index=[1,2,3])\n",
        "print(emp_df)"
      ],
      "metadata": {
        "colab": {
          "base_uri": "https://localhost:8080/"
        },
        "id": "Keu0v1k3jISY",
        "outputId": "92ed55bc-bbb7-4473-fdfa-59fcd89be548"
      },
      "execution_count": 9,
      "outputs": [
        {
          "output_type": "stream",
          "name": "stdout",
          "text": [
            "  employee name  income\n",
            "1        chirag   20000\n",
            "2       shourya  108393\n",
            "3         kavya   18278\n"
          ]
        }
      ]
    },
    {
      "cell_type": "markdown",
      "source": [
        "using a list of dictionaries"
      ],
      "metadata": {
        "id": "r37f1pUZjzPt"
      }
    },
    {
      "cell_type": "code",
      "source": [
        "lod=[{'a':1,'b':2,'c':3},{'a':10,'b':20,'c':30}]\n",
        "df=pd.DataFrame(lod)\n",
        "print(df)"
      ],
      "metadata": {
        "colab": {
          "base_uri": "https://localhost:8080/"
        },
        "id": "Z7CBgLruj4G5",
        "outputId": "6d478a84-da08-4e69-8126-9a92d000ed71"
      },
      "execution_count": 10,
      "outputs": [
        {
          "output_type": "stream",
          "name": "stdout",
          "text": [
            "    a   b   c\n",
            "0   1   2   3\n",
            "1  10  20  30\n"
          ]
        }
      ]
    },
    {
      "cell_type": "markdown",
      "source": [
        "if number of keys are different"
      ],
      "metadata": {
        "id": "CiqJXFRrk5yu"
      }
    },
    {
      "cell_type": "code",
      "source": [
        "lod=[{'a':1,'b':2},{'a':10,'b':20,'c':30}]\n",
        "df=pd.DataFrame(lod)\n",
        "print(df)"
      ],
      "metadata": {
        "colab": {
          "base_uri": "https://localhost:8080/"
        },
        "id": "zQ3KC9KVk8St",
        "outputId": "bfda0088-a797-4249-d224-318e203ae426"
      },
      "execution_count": 11,
      "outputs": [
        {
          "output_type": "stream",
          "name": "stdout",
          "text": [
            "    a   b     c\n",
            "0   1   2   NaN\n",
            "1  10  20  30.0\n"
          ]
        }
      ]
    },
    {
      "cell_type": "markdown",
      "source": [
        "otherway of doing it"
      ],
      "metadata": {
        "id": "RNbIcsPWlDek"
      }
    },
    {
      "cell_type": "code",
      "source": [
        "actor_name=['ray','chirag','shourya','manik']\n",
        "actor_age=[22,32,43,np.NaN]\n",
        "list_of_tuples=list(zip(actor_name,actor_age))\n",
        "actor_df=pd.DataFrame(list_of_tuples,columns=['name','age'])\n",
        "print(actor_df)"
      ],
      "metadata": {
        "colab": {
          "base_uri": "https://localhost:8080/"
        },
        "id": "I4O6HKd3lFqd",
        "outputId": "8e43f061-f20a-498d-9a6b-a44fad4325fc"
      },
      "execution_count": 12,
      "outputs": [
        {
          "output_type": "stream",
          "name": "stdout",
          "text": [
            "      name   age\n",
            "0      ray  22.0\n",
            "1   chirag  32.0\n",
            "2  shourya  43.0\n",
            "3    manik   NaN\n"
          ]
        }
      ]
    },
    {
      "cell_type": "markdown",
      "source": [
        "dataframe with 100 rows and 5 columns"
      ],
      "metadata": {
        "id": "ArTZoKJOlpVl"
      }
    },
    {
      "cell_type": "code",
      "source": [
        "our_array=np.random.randn(100,5)\n",
        "df=pd.DataFrame(our_array,columns=['a','b','c','d','e'])\n",
        "print(df)"
      ],
      "metadata": {
        "colab": {
          "base_uri": "https://localhost:8080/"
        },
        "id": "pGZh2Qndls3u",
        "outputId": "cd59cd7d-48d2-4967-87cc-e1ebe657a628"
      },
      "execution_count": 13,
      "outputs": [
        {
          "output_type": "stream",
          "name": "stdout",
          "text": [
            "           a         b         c         d         e\n",
            "0  -0.619350  1.907482 -1.167097 -0.071432  1.303515\n",
            "1  -0.108876  0.067960  0.438284 -0.796512  0.253834\n",
            "2  -1.171401 -0.356416 -0.161034  1.933696 -0.878314\n",
            "3  -0.489607 -0.510293 -1.135781  1.755585 -0.517976\n",
            "4  -0.352379  0.018092  0.069454 -1.295050 -0.578755\n",
            "..       ...       ...       ...       ...       ...\n",
            "95  1.130969 -1.026953 -0.548464  0.605035 -0.413202\n",
            "96  0.031016 -0.839583 -0.641052 -1.189012  0.303102\n",
            "97 -0.001442 -0.633867 -0.667335  2.037441 -1.124709\n",
            "98  1.125363  1.591623 -0.341153 -1.400897 -0.487190\n",
            "99 -1.188655 -0.994291  0.321608  0.537610  0.553012\n",
            "\n",
            "[100 rows x 5 columns]\n"
          ]
        }
      ]
    },
    {
      "cell_type": "markdown",
      "source": [
        "head()-- print the first n rows. by default it prints the first j rows"
      ],
      "metadata": {
        "id": "DO8H43-ZD69y"
      }
    },
    {
      "cell_type": "code",
      "source": [
        "df.head(20)"
      ],
      "metadata": {
        "colab": {
          "base_uri": "https://localhost:8080/",
          "height": 676
        },
        "id": "CuRrRyApD-Vb",
        "outputId": "dc4fe121-3412-4a20-b876-c04ffc4050d1"
      },
      "execution_count": 15,
      "outputs": [
        {
          "output_type": "execute_result",
          "data": {
            "text/plain": [
              "           a         b         c         d         e\n",
              "0  -0.619350  1.907482 -1.167097 -0.071432  1.303515\n",
              "1  -0.108876  0.067960  0.438284 -0.796512  0.253834\n",
              "2  -1.171401 -0.356416 -0.161034  1.933696 -0.878314\n",
              "3  -0.489607 -0.510293 -1.135781  1.755585 -0.517976\n",
              "4  -0.352379  0.018092  0.069454 -1.295050 -0.578755\n",
              "5   0.062666  0.995636 -0.333434 -0.302542 -0.711268\n",
              "6  -0.830862  0.454490 -0.095862  1.676502  0.816995\n",
              "7  -2.176385 -1.930695  0.657111  1.295030 -0.778887\n",
              "8   0.115571 -0.284011 -0.393315 -0.633199 -2.069147\n",
              "9  -0.108113  0.796487  0.244861  0.017989 -0.677009\n",
              "10 -0.280150  0.509960  0.216766  2.056480 -1.190896\n",
              "11  2.072815  2.753950 -0.380578  0.191707 -0.577033\n",
              "12  0.108515 -0.747504 -1.021242 -0.425417 -0.959894\n",
              "13  0.519203 -0.116497  0.599506  0.309959  0.148011\n",
              "14 -1.305501 -0.542736 -0.057343 -0.017899  0.116988\n",
              "15  0.191618  2.256129 -0.321105  0.068942  0.043411\n",
              "16 -0.953774 -0.890569  0.155728 -0.063323  0.351217\n",
              "17  1.053761 -2.424081 -1.023603 -0.766879 -0.549761\n",
              "18 -0.198053  0.899125  0.332066  0.477455  0.076798\n",
              "19  0.232979  1.139135 -1.882564  1.149755 -1.123031"
            ],
            "text/html": [
              "\n",
              "  <div id=\"df-244e3b07-1e3a-4253-b887-3bd84bcc3f86\" class=\"colab-df-container\">\n",
              "    <div>\n",
              "<style scoped>\n",
              "    .dataframe tbody tr th:only-of-type {\n",
              "        vertical-align: middle;\n",
              "    }\n",
              "\n",
              "    .dataframe tbody tr th {\n",
              "        vertical-align: top;\n",
              "    }\n",
              "\n",
              "    .dataframe thead th {\n",
              "        text-align: right;\n",
              "    }\n",
              "</style>\n",
              "<table border=\"1\" class=\"dataframe\">\n",
              "  <thead>\n",
              "    <tr style=\"text-align: right;\">\n",
              "      <th></th>\n",
              "      <th>a</th>\n",
              "      <th>b</th>\n",
              "      <th>c</th>\n",
              "      <th>d</th>\n",
              "      <th>e</th>\n",
              "    </tr>\n",
              "  </thead>\n",
              "  <tbody>\n",
              "    <tr>\n",
              "      <th>0</th>\n",
              "      <td>-0.619350</td>\n",
              "      <td>1.907482</td>\n",
              "      <td>-1.167097</td>\n",
              "      <td>-0.071432</td>\n",
              "      <td>1.303515</td>\n",
              "    </tr>\n",
              "    <tr>\n",
              "      <th>1</th>\n",
              "      <td>-0.108876</td>\n",
              "      <td>0.067960</td>\n",
              "      <td>0.438284</td>\n",
              "      <td>-0.796512</td>\n",
              "      <td>0.253834</td>\n",
              "    </tr>\n",
              "    <tr>\n",
              "      <th>2</th>\n",
              "      <td>-1.171401</td>\n",
              "      <td>-0.356416</td>\n",
              "      <td>-0.161034</td>\n",
              "      <td>1.933696</td>\n",
              "      <td>-0.878314</td>\n",
              "    </tr>\n",
              "    <tr>\n",
              "      <th>3</th>\n",
              "      <td>-0.489607</td>\n",
              "      <td>-0.510293</td>\n",
              "      <td>-1.135781</td>\n",
              "      <td>1.755585</td>\n",
              "      <td>-0.517976</td>\n",
              "    </tr>\n",
              "    <tr>\n",
              "      <th>4</th>\n",
              "      <td>-0.352379</td>\n",
              "      <td>0.018092</td>\n",
              "      <td>0.069454</td>\n",
              "      <td>-1.295050</td>\n",
              "      <td>-0.578755</td>\n",
              "    </tr>\n",
              "    <tr>\n",
              "      <th>5</th>\n",
              "      <td>0.062666</td>\n",
              "      <td>0.995636</td>\n",
              "      <td>-0.333434</td>\n",
              "      <td>-0.302542</td>\n",
              "      <td>-0.711268</td>\n",
              "    </tr>\n",
              "    <tr>\n",
              "      <th>6</th>\n",
              "      <td>-0.830862</td>\n",
              "      <td>0.454490</td>\n",
              "      <td>-0.095862</td>\n",
              "      <td>1.676502</td>\n",
              "      <td>0.816995</td>\n",
              "    </tr>\n",
              "    <tr>\n",
              "      <th>7</th>\n",
              "      <td>-2.176385</td>\n",
              "      <td>-1.930695</td>\n",
              "      <td>0.657111</td>\n",
              "      <td>1.295030</td>\n",
              "      <td>-0.778887</td>\n",
              "    </tr>\n",
              "    <tr>\n",
              "      <th>8</th>\n",
              "      <td>0.115571</td>\n",
              "      <td>-0.284011</td>\n",
              "      <td>-0.393315</td>\n",
              "      <td>-0.633199</td>\n",
              "      <td>-2.069147</td>\n",
              "    </tr>\n",
              "    <tr>\n",
              "      <th>9</th>\n",
              "      <td>-0.108113</td>\n",
              "      <td>0.796487</td>\n",
              "      <td>0.244861</td>\n",
              "      <td>0.017989</td>\n",
              "      <td>-0.677009</td>\n",
              "    </tr>\n",
              "    <tr>\n",
              "      <th>10</th>\n",
              "      <td>-0.280150</td>\n",
              "      <td>0.509960</td>\n",
              "      <td>0.216766</td>\n",
              "      <td>2.056480</td>\n",
              "      <td>-1.190896</td>\n",
              "    </tr>\n",
              "    <tr>\n",
              "      <th>11</th>\n",
              "      <td>2.072815</td>\n",
              "      <td>2.753950</td>\n",
              "      <td>-0.380578</td>\n",
              "      <td>0.191707</td>\n",
              "      <td>-0.577033</td>\n",
              "    </tr>\n",
              "    <tr>\n",
              "      <th>12</th>\n",
              "      <td>0.108515</td>\n",
              "      <td>-0.747504</td>\n",
              "      <td>-1.021242</td>\n",
              "      <td>-0.425417</td>\n",
              "      <td>-0.959894</td>\n",
              "    </tr>\n",
              "    <tr>\n",
              "      <th>13</th>\n",
              "      <td>0.519203</td>\n",
              "      <td>-0.116497</td>\n",
              "      <td>0.599506</td>\n",
              "      <td>0.309959</td>\n",
              "      <td>0.148011</td>\n",
              "    </tr>\n",
              "    <tr>\n",
              "      <th>14</th>\n",
              "      <td>-1.305501</td>\n",
              "      <td>-0.542736</td>\n",
              "      <td>-0.057343</td>\n",
              "      <td>-0.017899</td>\n",
              "      <td>0.116988</td>\n",
              "    </tr>\n",
              "    <tr>\n",
              "      <th>15</th>\n",
              "      <td>0.191618</td>\n",
              "      <td>2.256129</td>\n",
              "      <td>-0.321105</td>\n",
              "      <td>0.068942</td>\n",
              "      <td>0.043411</td>\n",
              "    </tr>\n",
              "    <tr>\n",
              "      <th>16</th>\n",
              "      <td>-0.953774</td>\n",
              "      <td>-0.890569</td>\n",
              "      <td>0.155728</td>\n",
              "      <td>-0.063323</td>\n",
              "      <td>0.351217</td>\n",
              "    </tr>\n",
              "    <tr>\n",
              "      <th>17</th>\n",
              "      <td>1.053761</td>\n",
              "      <td>-2.424081</td>\n",
              "      <td>-1.023603</td>\n",
              "      <td>-0.766879</td>\n",
              "      <td>-0.549761</td>\n",
              "    </tr>\n",
              "    <tr>\n",
              "      <th>18</th>\n",
              "      <td>-0.198053</td>\n",
              "      <td>0.899125</td>\n",
              "      <td>0.332066</td>\n",
              "      <td>0.477455</td>\n",
              "      <td>0.076798</td>\n",
              "    </tr>\n",
              "    <tr>\n",
              "      <th>19</th>\n",
              "      <td>0.232979</td>\n",
              "      <td>1.139135</td>\n",
              "      <td>-1.882564</td>\n",
              "      <td>1.149755</td>\n",
              "      <td>-1.123031</td>\n",
              "    </tr>\n",
              "  </tbody>\n",
              "</table>\n",
              "</div>\n",
              "    <div class=\"colab-df-buttons\">\n",
              "\n",
              "  <div class=\"colab-df-container\">\n",
              "    <button class=\"colab-df-convert\" onclick=\"convertToInteractive('df-244e3b07-1e3a-4253-b887-3bd84bcc3f86')\"\n",
              "            title=\"Convert this dataframe to an interactive table.\"\n",
              "            style=\"display:none;\">\n",
              "\n",
              "  <svg xmlns=\"http://www.w3.org/2000/svg\" height=\"24px\" viewBox=\"0 -960 960 960\">\n",
              "    <path d=\"M120-120v-720h720v720H120Zm60-500h600v-160H180v160Zm220 220h160v-160H400v160Zm0 220h160v-160H400v160ZM180-400h160v-160H180v160Zm440 0h160v-160H620v160ZM180-180h160v-160H180v160Zm440 0h160v-160H620v160Z\"/>\n",
              "  </svg>\n",
              "    </button>\n",
              "\n",
              "  <style>\n",
              "    .colab-df-container {\n",
              "      display:flex;\n",
              "      gap: 12px;\n",
              "    }\n",
              "\n",
              "    .colab-df-convert {\n",
              "      background-color: #E8F0FE;\n",
              "      border: none;\n",
              "      border-radius: 50%;\n",
              "      cursor: pointer;\n",
              "      display: none;\n",
              "      fill: #1967D2;\n",
              "      height: 32px;\n",
              "      padding: 0 0 0 0;\n",
              "      width: 32px;\n",
              "    }\n",
              "\n",
              "    .colab-df-convert:hover {\n",
              "      background-color: #E2EBFA;\n",
              "      box-shadow: 0px 1px 2px rgba(60, 64, 67, 0.3), 0px 1px 3px 1px rgba(60, 64, 67, 0.15);\n",
              "      fill: #174EA6;\n",
              "    }\n",
              "\n",
              "    .colab-df-buttons div {\n",
              "      margin-bottom: 4px;\n",
              "    }\n",
              "\n",
              "    [theme=dark] .colab-df-convert {\n",
              "      background-color: #3B4455;\n",
              "      fill: #D2E3FC;\n",
              "    }\n",
              "\n",
              "    [theme=dark] .colab-df-convert:hover {\n",
              "      background-color: #434B5C;\n",
              "      box-shadow: 0px 1px 3px 1px rgba(0, 0, 0, 0.15);\n",
              "      filter: drop-shadow(0px 1px 2px rgba(0, 0, 0, 0.3));\n",
              "      fill: #FFFFFF;\n",
              "    }\n",
              "  </style>\n",
              "\n",
              "    <script>\n",
              "      const buttonEl =\n",
              "        document.querySelector('#df-244e3b07-1e3a-4253-b887-3bd84bcc3f86 button.colab-df-convert');\n",
              "      buttonEl.style.display =\n",
              "        google.colab.kernel.accessAllowed ? 'block' : 'none';\n",
              "\n",
              "      async function convertToInteractive(key) {\n",
              "        const element = document.querySelector('#df-244e3b07-1e3a-4253-b887-3bd84bcc3f86');\n",
              "        const dataTable =\n",
              "          await google.colab.kernel.invokeFunction('convertToInteractive',\n",
              "                                                    [key], {});\n",
              "        if (!dataTable) return;\n",
              "\n",
              "        const docLinkHtml = 'Like what you see? Visit the ' +\n",
              "          '<a target=\"_blank\" href=https://colab.research.google.com/notebooks/data_table.ipynb>data table notebook</a>'\n",
              "          + ' to learn more about interactive tables.';\n",
              "        element.innerHTML = '';\n",
              "        dataTable['output_type'] = 'display_data';\n",
              "        await google.colab.output.renderOutput(dataTable, element);\n",
              "        const docLink = document.createElement('div');\n",
              "        docLink.innerHTML = docLinkHtml;\n",
              "        element.appendChild(docLink);\n",
              "      }\n",
              "    </script>\n",
              "  </div>\n",
              "\n",
              "\n",
              "<div id=\"df-fb44e533-be48-4c11-af00-c7b78e363dbd\">\n",
              "  <button class=\"colab-df-quickchart\" onclick=\"quickchart('df-fb44e533-be48-4c11-af00-c7b78e363dbd')\"\n",
              "            title=\"Suggest charts.\"\n",
              "            style=\"display:none;\">\n",
              "\n",
              "<svg xmlns=\"http://www.w3.org/2000/svg\" height=\"24px\"viewBox=\"0 0 24 24\"\n",
              "     width=\"24px\">\n",
              "    <g>\n",
              "        <path d=\"M19 3H5c-1.1 0-2 .9-2 2v14c0 1.1.9 2 2 2h14c1.1 0 2-.9 2-2V5c0-1.1-.9-2-2-2zM9 17H7v-7h2v7zm4 0h-2V7h2v10zm4 0h-2v-4h2v4z\"/>\n",
              "    </g>\n",
              "</svg>\n",
              "  </button>\n",
              "\n",
              "<style>\n",
              "  .colab-df-quickchart {\n",
              "      --bg-color: #E8F0FE;\n",
              "      --fill-color: #1967D2;\n",
              "      --hover-bg-color: #E2EBFA;\n",
              "      --hover-fill-color: #174EA6;\n",
              "      --disabled-fill-color: #AAA;\n",
              "      --disabled-bg-color: #DDD;\n",
              "  }\n",
              "\n",
              "  [theme=dark] .colab-df-quickchart {\n",
              "      --bg-color: #3B4455;\n",
              "      --fill-color: #D2E3FC;\n",
              "      --hover-bg-color: #434B5C;\n",
              "      --hover-fill-color: #FFFFFF;\n",
              "      --disabled-bg-color: #3B4455;\n",
              "      --disabled-fill-color: #666;\n",
              "  }\n",
              "\n",
              "  .colab-df-quickchart {\n",
              "    background-color: var(--bg-color);\n",
              "    border: none;\n",
              "    border-radius: 50%;\n",
              "    cursor: pointer;\n",
              "    display: none;\n",
              "    fill: var(--fill-color);\n",
              "    height: 32px;\n",
              "    padding: 0;\n",
              "    width: 32px;\n",
              "  }\n",
              "\n",
              "  .colab-df-quickchart:hover {\n",
              "    background-color: var(--hover-bg-color);\n",
              "    box-shadow: 0 1px 2px rgba(60, 64, 67, 0.3), 0 1px 3px 1px rgba(60, 64, 67, 0.15);\n",
              "    fill: var(--button-hover-fill-color);\n",
              "  }\n",
              "\n",
              "  .colab-df-quickchart-complete:disabled,\n",
              "  .colab-df-quickchart-complete:disabled:hover {\n",
              "    background-color: var(--disabled-bg-color);\n",
              "    fill: var(--disabled-fill-color);\n",
              "    box-shadow: none;\n",
              "  }\n",
              "\n",
              "  .colab-df-spinner {\n",
              "    border: 2px solid var(--fill-color);\n",
              "    border-color: transparent;\n",
              "    border-bottom-color: var(--fill-color);\n",
              "    animation:\n",
              "      spin 1s steps(1) infinite;\n",
              "  }\n",
              "\n",
              "  @keyframes spin {\n",
              "    0% {\n",
              "      border-color: transparent;\n",
              "      border-bottom-color: var(--fill-color);\n",
              "      border-left-color: var(--fill-color);\n",
              "    }\n",
              "    20% {\n",
              "      border-color: transparent;\n",
              "      border-left-color: var(--fill-color);\n",
              "      border-top-color: var(--fill-color);\n",
              "    }\n",
              "    30% {\n",
              "      border-color: transparent;\n",
              "      border-left-color: var(--fill-color);\n",
              "      border-top-color: var(--fill-color);\n",
              "      border-right-color: var(--fill-color);\n",
              "    }\n",
              "    40% {\n",
              "      border-color: transparent;\n",
              "      border-right-color: var(--fill-color);\n",
              "      border-top-color: var(--fill-color);\n",
              "    }\n",
              "    60% {\n",
              "      border-color: transparent;\n",
              "      border-right-color: var(--fill-color);\n",
              "    }\n",
              "    80% {\n",
              "      border-color: transparent;\n",
              "      border-right-color: var(--fill-color);\n",
              "      border-bottom-color: var(--fill-color);\n",
              "    }\n",
              "    90% {\n",
              "      border-color: transparent;\n",
              "      border-bottom-color: var(--fill-color);\n",
              "    }\n",
              "  }\n",
              "</style>\n",
              "\n",
              "  <script>\n",
              "    async function quickchart(key) {\n",
              "      const quickchartButtonEl =\n",
              "        document.querySelector('#' + key + ' button');\n",
              "      quickchartButtonEl.disabled = true;  // To prevent multiple clicks.\n",
              "      quickchartButtonEl.classList.add('colab-df-spinner');\n",
              "      try {\n",
              "        const charts = await google.colab.kernel.invokeFunction(\n",
              "            'suggestCharts', [key], {});\n",
              "      } catch (error) {\n",
              "        console.error('Error during call to suggestCharts:', error);\n",
              "      }\n",
              "      quickchartButtonEl.classList.remove('colab-df-spinner');\n",
              "      quickchartButtonEl.classList.add('colab-df-quickchart-complete');\n",
              "    }\n",
              "    (() => {\n",
              "      let quickchartButtonEl =\n",
              "        document.querySelector('#df-fb44e533-be48-4c11-af00-c7b78e363dbd button');\n",
              "      quickchartButtonEl.style.display =\n",
              "        google.colab.kernel.accessAllowed ? 'block' : 'none';\n",
              "    })();\n",
              "  </script>\n",
              "</div>\n",
              "    </div>\n",
              "  </div>\n"
            ]
          },
          "metadata": {},
          "execution_count": 15
        }
      ]
    },
    {
      "cell_type": "markdown",
      "source": [
        "tail()-- print the last n rows of dataframe. by default it prints the last 5 rows\n",
        "\n",
        "---\n",
        "\n"
      ],
      "metadata": {
        "id": "29xdmIWxE5yv"
      }
    },
    {
      "cell_type": "code",
      "source": [
        "df.tail(10)"
      ],
      "metadata": {
        "colab": {
          "base_uri": "https://localhost:8080/",
          "height": 363
        },
        "id": "dNovd5ajFkEf",
        "outputId": "d0f894c9-0caf-4f42-bd8f-f73eb0d96240"
      },
      "execution_count": 17,
      "outputs": [
        {
          "output_type": "execute_result",
          "data": {
            "text/plain": [
              "           a         b         c         d         e\n",
              "90  1.471794  0.603572  0.669151 -1.575325 -0.224868\n",
              "91 -1.698633  0.670221 -0.581915  0.006968 -0.440133\n",
              "92 -0.648187  0.067500 -0.782490  0.244360  0.095202\n",
              "93  0.596976  0.706770  0.442352 -0.244137  0.276379\n",
              "94  0.397781 -1.316244  0.005991  0.629228 -0.235986\n",
              "95  1.130969 -1.026953 -0.548464  0.605035 -0.413202\n",
              "96  0.031016 -0.839583 -0.641052 -1.189012  0.303102\n",
              "97 -0.001442 -0.633867 -0.667335  2.037441 -1.124709\n",
              "98  1.125363  1.591623 -0.341153 -1.400897 -0.487190\n",
              "99 -1.188655 -0.994291  0.321608  0.537610  0.553012"
            ],
            "text/html": [
              "\n",
              "  <div id=\"df-1c9ce631-6729-47b6-bed0-44850d289858\" class=\"colab-df-container\">\n",
              "    <div>\n",
              "<style scoped>\n",
              "    .dataframe tbody tr th:only-of-type {\n",
              "        vertical-align: middle;\n",
              "    }\n",
              "\n",
              "    .dataframe tbody tr th {\n",
              "        vertical-align: top;\n",
              "    }\n",
              "\n",
              "    .dataframe thead th {\n",
              "        text-align: right;\n",
              "    }\n",
              "</style>\n",
              "<table border=\"1\" class=\"dataframe\">\n",
              "  <thead>\n",
              "    <tr style=\"text-align: right;\">\n",
              "      <th></th>\n",
              "      <th>a</th>\n",
              "      <th>b</th>\n",
              "      <th>c</th>\n",
              "      <th>d</th>\n",
              "      <th>e</th>\n",
              "    </tr>\n",
              "  </thead>\n",
              "  <tbody>\n",
              "    <tr>\n",
              "      <th>90</th>\n",
              "      <td>1.471794</td>\n",
              "      <td>0.603572</td>\n",
              "      <td>0.669151</td>\n",
              "      <td>-1.575325</td>\n",
              "      <td>-0.224868</td>\n",
              "    </tr>\n",
              "    <tr>\n",
              "      <th>91</th>\n",
              "      <td>-1.698633</td>\n",
              "      <td>0.670221</td>\n",
              "      <td>-0.581915</td>\n",
              "      <td>0.006968</td>\n",
              "      <td>-0.440133</td>\n",
              "    </tr>\n",
              "    <tr>\n",
              "      <th>92</th>\n",
              "      <td>-0.648187</td>\n",
              "      <td>0.067500</td>\n",
              "      <td>-0.782490</td>\n",
              "      <td>0.244360</td>\n",
              "      <td>0.095202</td>\n",
              "    </tr>\n",
              "    <tr>\n",
              "      <th>93</th>\n",
              "      <td>0.596976</td>\n",
              "      <td>0.706770</td>\n",
              "      <td>0.442352</td>\n",
              "      <td>-0.244137</td>\n",
              "      <td>0.276379</td>\n",
              "    </tr>\n",
              "    <tr>\n",
              "      <th>94</th>\n",
              "      <td>0.397781</td>\n",
              "      <td>-1.316244</td>\n",
              "      <td>0.005991</td>\n",
              "      <td>0.629228</td>\n",
              "      <td>-0.235986</td>\n",
              "    </tr>\n",
              "    <tr>\n",
              "      <th>95</th>\n",
              "      <td>1.130969</td>\n",
              "      <td>-1.026953</td>\n",
              "      <td>-0.548464</td>\n",
              "      <td>0.605035</td>\n",
              "      <td>-0.413202</td>\n",
              "    </tr>\n",
              "    <tr>\n",
              "      <th>96</th>\n",
              "      <td>0.031016</td>\n",
              "      <td>-0.839583</td>\n",
              "      <td>-0.641052</td>\n",
              "      <td>-1.189012</td>\n",
              "      <td>0.303102</td>\n",
              "    </tr>\n",
              "    <tr>\n",
              "      <th>97</th>\n",
              "      <td>-0.001442</td>\n",
              "      <td>-0.633867</td>\n",
              "      <td>-0.667335</td>\n",
              "      <td>2.037441</td>\n",
              "      <td>-1.124709</td>\n",
              "    </tr>\n",
              "    <tr>\n",
              "      <th>98</th>\n",
              "      <td>1.125363</td>\n",
              "      <td>1.591623</td>\n",
              "      <td>-0.341153</td>\n",
              "      <td>-1.400897</td>\n",
              "      <td>-0.487190</td>\n",
              "    </tr>\n",
              "    <tr>\n",
              "      <th>99</th>\n",
              "      <td>-1.188655</td>\n",
              "      <td>-0.994291</td>\n",
              "      <td>0.321608</td>\n",
              "      <td>0.537610</td>\n",
              "      <td>0.553012</td>\n",
              "    </tr>\n",
              "  </tbody>\n",
              "</table>\n",
              "</div>\n",
              "    <div class=\"colab-df-buttons\">\n",
              "\n",
              "  <div class=\"colab-df-container\">\n",
              "    <button class=\"colab-df-convert\" onclick=\"convertToInteractive('df-1c9ce631-6729-47b6-bed0-44850d289858')\"\n",
              "            title=\"Convert this dataframe to an interactive table.\"\n",
              "            style=\"display:none;\">\n",
              "\n",
              "  <svg xmlns=\"http://www.w3.org/2000/svg\" height=\"24px\" viewBox=\"0 -960 960 960\">\n",
              "    <path d=\"M120-120v-720h720v720H120Zm60-500h600v-160H180v160Zm220 220h160v-160H400v160Zm0 220h160v-160H400v160ZM180-400h160v-160H180v160Zm440 0h160v-160H620v160ZM180-180h160v-160H180v160Zm440 0h160v-160H620v160Z\"/>\n",
              "  </svg>\n",
              "    </button>\n",
              "\n",
              "  <style>\n",
              "    .colab-df-container {\n",
              "      display:flex;\n",
              "      gap: 12px;\n",
              "    }\n",
              "\n",
              "    .colab-df-convert {\n",
              "      background-color: #E8F0FE;\n",
              "      border: none;\n",
              "      border-radius: 50%;\n",
              "      cursor: pointer;\n",
              "      display: none;\n",
              "      fill: #1967D2;\n",
              "      height: 32px;\n",
              "      padding: 0 0 0 0;\n",
              "      width: 32px;\n",
              "    }\n",
              "\n",
              "    .colab-df-convert:hover {\n",
              "      background-color: #E2EBFA;\n",
              "      box-shadow: 0px 1px 2px rgba(60, 64, 67, 0.3), 0px 1px 3px 1px rgba(60, 64, 67, 0.15);\n",
              "      fill: #174EA6;\n",
              "    }\n",
              "\n",
              "    .colab-df-buttons div {\n",
              "      margin-bottom: 4px;\n",
              "    }\n",
              "\n",
              "    [theme=dark] .colab-df-convert {\n",
              "      background-color: #3B4455;\n",
              "      fill: #D2E3FC;\n",
              "    }\n",
              "\n",
              "    [theme=dark] .colab-df-convert:hover {\n",
              "      background-color: #434B5C;\n",
              "      box-shadow: 0px 1px 3px 1px rgba(0, 0, 0, 0.15);\n",
              "      filter: drop-shadow(0px 1px 2px rgba(0, 0, 0, 0.3));\n",
              "      fill: #FFFFFF;\n",
              "    }\n",
              "  </style>\n",
              "\n",
              "    <script>\n",
              "      const buttonEl =\n",
              "        document.querySelector('#df-1c9ce631-6729-47b6-bed0-44850d289858 button.colab-df-convert');\n",
              "      buttonEl.style.display =\n",
              "        google.colab.kernel.accessAllowed ? 'block' : 'none';\n",
              "\n",
              "      async function convertToInteractive(key) {\n",
              "        const element = document.querySelector('#df-1c9ce631-6729-47b6-bed0-44850d289858');\n",
              "        const dataTable =\n",
              "          await google.colab.kernel.invokeFunction('convertToInteractive',\n",
              "                                                    [key], {});\n",
              "        if (!dataTable) return;\n",
              "\n",
              "        const docLinkHtml = 'Like what you see? Visit the ' +\n",
              "          '<a target=\"_blank\" href=https://colab.research.google.com/notebooks/data_table.ipynb>data table notebook</a>'\n",
              "          + ' to learn more about interactive tables.';\n",
              "        element.innerHTML = '';\n",
              "        dataTable['output_type'] = 'display_data';\n",
              "        await google.colab.output.renderOutput(dataTable, element);\n",
              "        const docLink = document.createElement('div');\n",
              "        docLink.innerHTML = docLinkHtml;\n",
              "        element.appendChild(docLink);\n",
              "      }\n",
              "    </script>\n",
              "  </div>\n",
              "\n",
              "\n",
              "<div id=\"df-05fa9f91-a9a2-4a6d-a4f6-9f46b9b80e35\">\n",
              "  <button class=\"colab-df-quickchart\" onclick=\"quickchart('df-05fa9f91-a9a2-4a6d-a4f6-9f46b9b80e35')\"\n",
              "            title=\"Suggest charts.\"\n",
              "            style=\"display:none;\">\n",
              "\n",
              "<svg xmlns=\"http://www.w3.org/2000/svg\" height=\"24px\"viewBox=\"0 0 24 24\"\n",
              "     width=\"24px\">\n",
              "    <g>\n",
              "        <path d=\"M19 3H5c-1.1 0-2 .9-2 2v14c0 1.1.9 2 2 2h14c1.1 0 2-.9 2-2V5c0-1.1-.9-2-2-2zM9 17H7v-7h2v7zm4 0h-2V7h2v10zm4 0h-2v-4h2v4z\"/>\n",
              "    </g>\n",
              "</svg>\n",
              "  </button>\n",
              "\n",
              "<style>\n",
              "  .colab-df-quickchart {\n",
              "      --bg-color: #E8F0FE;\n",
              "      --fill-color: #1967D2;\n",
              "      --hover-bg-color: #E2EBFA;\n",
              "      --hover-fill-color: #174EA6;\n",
              "      --disabled-fill-color: #AAA;\n",
              "      --disabled-bg-color: #DDD;\n",
              "  }\n",
              "\n",
              "  [theme=dark] .colab-df-quickchart {\n",
              "      --bg-color: #3B4455;\n",
              "      --fill-color: #D2E3FC;\n",
              "      --hover-bg-color: #434B5C;\n",
              "      --hover-fill-color: #FFFFFF;\n",
              "      --disabled-bg-color: #3B4455;\n",
              "      --disabled-fill-color: #666;\n",
              "  }\n",
              "\n",
              "  .colab-df-quickchart {\n",
              "    background-color: var(--bg-color);\n",
              "    border: none;\n",
              "    border-radius: 50%;\n",
              "    cursor: pointer;\n",
              "    display: none;\n",
              "    fill: var(--fill-color);\n",
              "    height: 32px;\n",
              "    padding: 0;\n",
              "    width: 32px;\n",
              "  }\n",
              "\n",
              "  .colab-df-quickchart:hover {\n",
              "    background-color: var(--hover-bg-color);\n",
              "    box-shadow: 0 1px 2px rgba(60, 64, 67, 0.3), 0 1px 3px 1px rgba(60, 64, 67, 0.15);\n",
              "    fill: var(--button-hover-fill-color);\n",
              "  }\n",
              "\n",
              "  .colab-df-quickchart-complete:disabled,\n",
              "  .colab-df-quickchart-complete:disabled:hover {\n",
              "    background-color: var(--disabled-bg-color);\n",
              "    fill: var(--disabled-fill-color);\n",
              "    box-shadow: none;\n",
              "  }\n",
              "\n",
              "  .colab-df-spinner {\n",
              "    border: 2px solid var(--fill-color);\n",
              "    border-color: transparent;\n",
              "    border-bottom-color: var(--fill-color);\n",
              "    animation:\n",
              "      spin 1s steps(1) infinite;\n",
              "  }\n",
              "\n",
              "  @keyframes spin {\n",
              "    0% {\n",
              "      border-color: transparent;\n",
              "      border-bottom-color: var(--fill-color);\n",
              "      border-left-color: var(--fill-color);\n",
              "    }\n",
              "    20% {\n",
              "      border-color: transparent;\n",
              "      border-left-color: var(--fill-color);\n",
              "      border-top-color: var(--fill-color);\n",
              "    }\n",
              "    30% {\n",
              "      border-color: transparent;\n",
              "      border-left-color: var(--fill-color);\n",
              "      border-top-color: var(--fill-color);\n",
              "      border-right-color: var(--fill-color);\n",
              "    }\n",
              "    40% {\n",
              "      border-color: transparent;\n",
              "      border-right-color: var(--fill-color);\n",
              "      border-top-color: var(--fill-color);\n",
              "    }\n",
              "    60% {\n",
              "      border-color: transparent;\n",
              "      border-right-color: var(--fill-color);\n",
              "    }\n",
              "    80% {\n",
              "      border-color: transparent;\n",
              "      border-right-color: var(--fill-color);\n",
              "      border-bottom-color: var(--fill-color);\n",
              "    }\n",
              "    90% {\n",
              "      border-color: transparent;\n",
              "      border-bottom-color: var(--fill-color);\n",
              "    }\n",
              "  }\n",
              "</style>\n",
              "\n",
              "  <script>\n",
              "    async function quickchart(key) {\n",
              "      const quickchartButtonEl =\n",
              "        document.querySelector('#' + key + ' button');\n",
              "      quickchartButtonEl.disabled = true;  // To prevent multiple clicks.\n",
              "      quickchartButtonEl.classList.add('colab-df-spinner');\n",
              "      try {\n",
              "        const charts = await google.colab.kernel.invokeFunction(\n",
              "            'suggestCharts', [key], {});\n",
              "      } catch (error) {\n",
              "        console.error('Error during call to suggestCharts:', error);\n",
              "      }\n",
              "      quickchartButtonEl.classList.remove('colab-df-spinner');\n",
              "      quickchartButtonEl.classList.add('colab-df-quickchart-complete');\n",
              "    }\n",
              "    (() => {\n",
              "      let quickchartButtonEl =\n",
              "        document.querySelector('#df-05fa9f91-a9a2-4a6d-a4f6-9f46b9b80e35 button');\n",
              "      quickchartButtonEl.style.display =\n",
              "        google.colab.kernel.accessAllowed ? 'block' : 'none';\n",
              "    })();\n",
              "  </script>\n",
              "</div>\n",
              "    </div>\n",
              "  </div>\n"
            ]
          },
          "metadata": {},
          "execution_count": 17
        }
      ]
    },
    {
      "cell_type": "markdown",
      "source": [
        "columns-- print last of columns"
      ],
      "metadata": {
        "id": "guODdCCGFt-u"
      }
    },
    {
      "cell_type": "code",
      "source": [
        "df.columns"
      ],
      "metadata": {
        "colab": {
          "base_uri": "https://localhost:8080/"
        },
        "id": "bXu_4wzeF9tr",
        "outputId": "93452934-50c5-4d95-827b-96e09250ffab"
      },
      "execution_count": 20,
      "outputs": [
        {
          "output_type": "execute_result",
          "data": {
            "text/plain": [
              "Index(['a', 'b', 'c', 'd', 'e'], dtype='object')"
            ]
          },
          "metadata": {},
          "execution_count": 20
        }
      ]
    },
    {
      "cell_type": "markdown",
      "source": [
        "info()-- prints basic info about dataframes"
      ],
      "metadata": {
        "id": "LLwSup0mGM4i"
      }
    },
    {
      "cell_type": "code",
      "source": [
        "actor_df.info()"
      ],
      "metadata": {
        "colab": {
          "base_uri": "https://localhost:8080/"
        },
        "id": "fcBLQdzxGhjo",
        "outputId": "0348b219-3d35-42fb-852f-6dea64816fed"
      },
      "execution_count": 21,
      "outputs": [
        {
          "output_type": "stream",
          "name": "stdout",
          "text": [
            "<class 'pandas.core.frame.DataFrame'>\n",
            "RangeIndex: 4 entries, 0 to 3\n",
            "Data columns (total 2 columns):\n",
            " #   Column  Non-Null Count  Dtype  \n",
            "---  ------  --------------  -----  \n",
            " 0   name    4 non-null      object \n",
            " 1   age     3 non-null      float64\n",
            "dtypes: float64(1), object(1)\n",
            "memory usage: 192.0+ bytes\n"
          ]
        }
      ]
    },
    {
      "cell_type": "markdown",
      "source": [
        "rename()--"
      ],
      "metadata": {
        "id": "8fAsdjYDG6xk"
      }
    }
  ]
}