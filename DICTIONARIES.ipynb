{
  "nbformat": 4,
  "nbformat_minor": 0,
  "metadata": {
    "colab": {
      "provenance": [],
      "authorship_tag": "ABX9TyNmh+r7aDptaOU8LzYGvGRU",
      "include_colab_link": true
    },
    "kernelspec": {
      "name": "python3",
      "display_name": "Python 3"
    },
    "language_info": {
      "name": "python"
    }
  },
  "cells": [
    {
      "cell_type": "markdown",
      "metadata": {
        "id": "view-in-github",
        "colab_type": "text"
      },
      "source": [
        "<a href=\"https://colab.research.google.com/github/chiragguptx/data-science/blob/main/DICTIONARIES.ipynb\" target=\"_parent\"><img src=\"https://colab.research.google.com/assets/colab-badge.svg\" alt=\"Open In Colab\"/></a>"
      ]
    },
    {
      "cell_type": "markdown",
      "source": [
        "VALUE STORED AS KEY-VALUE PAIRS\n",
        "{key:value}"
      ],
      "metadata": {
        "id": "0GuNhr-_HqME"
      }
    },
    {
      "cell_type": "code",
      "source": [
        "new={'name':'chirag','place':'meerut',1:2}\n",
        "print(new['name'])\n",
        "print(type(new))"
      ],
      "metadata": {
        "colab": {
          "base_uri": "https://localhost:8080/"
        },
        "id": "atz_bM1DHyUn",
        "outputId": "1c8d93fb-3262-49b6-9df4-fb6833bf81d4"
      },
      "execution_count": 5,
      "outputs": [
        {
          "output_type": "stream",
          "name": "stdout",
          "text": [
            "chirag\n",
            "<class 'dict'>\n"
          ]
        }
      ]
    },
    {
      "cell_type": "markdown",
      "source": [
        "key()"
      ],
      "metadata": {
        "id": "hQClfRGbJWka"
      }
    },
    {
      "cell_type": "code",
      "source": [
        "new={'name':'chirag','place':'meerut',1:2}\n",
        "list(new.keys())"
      ],
      "metadata": {
        "colab": {
          "base_uri": "https://localhost:8080/"
        },
        "id": "St7g3ef2JYGB",
        "outputId": "e96c41b3-65df-47ec-e91f-35877f3010e5"
      },
      "execution_count": 6,
      "outputs": [
        {
          "output_type": "execute_result",
          "data": {
            "text/plain": [
              "['name', 'place', 1]"
            ]
          },
          "metadata": {},
          "execution_count": 6
        }
      ]
    },
    {
      "cell_type": "markdown",
      "source": [
        "Values()"
      ],
      "metadata": {
        "id": "VsbpBcRQJhG2"
      }
    },
    {
      "cell_type": "code",
      "source": [
        "new={'name':'chirag','place':'meerut',1:2}\n",
        "list(new.values())"
      ],
      "metadata": {
        "colab": {
          "base_uri": "https://localhost:8080/"
        },
        "id": "_D4uvWcuJjwf",
        "outputId": "ee80fd15-d6d6-4eb8-a9d8-af52f0a4e631"
      },
      "execution_count": 8,
      "outputs": [
        {
          "output_type": "execute_result",
          "data": {
            "text/plain": [
              "['chirag', 'meerut', 2]"
            ]
          },
          "metadata": {},
          "execution_count": 8
        }
      ]
    },
    {
      "cell_type": "markdown",
      "source": [
        "items()\n"
      ],
      "metadata": {
        "id": "RlnhIUlKJs-5"
      }
    },
    {
      "cell_type": "code",
      "source": [
        "list(new.items())"
      ],
      "metadata": {
        "colab": {
          "base_uri": "https://localhost:8080/"
        },
        "id": "h1zXzM6FJvaq",
        "outputId": "55df42c5-3802-4933-b5bd-ba187c1b8125"
      },
      "execution_count": 9,
      "outputs": [
        {
          "output_type": "execute_result",
          "data": {
            "text/plain": [
              "[('name', 'chirag'), ('place', 'meerut'), (1, 2)]"
            ]
          },
          "metadata": {},
          "execution_count": 9
        }
      ]
    },
    {
      "cell_type": "markdown",
      "source": [
        "get() mention key get value"
      ],
      "metadata": {
        "id": "z1F6gBrJJ0G3"
      }
    },
    {
      "cell_type": "code",
      "source": [
        "new.get('place')"
      ],
      "metadata": {
        "colab": {
          "base_uri": "https://localhost:8080/",
          "height": 36
        },
        "id": "iwbuYf0_J2RT",
        "outputId": "a6953e46-8832-4aac-ccc8-ce1ecad1b98c"
      },
      "execution_count": 10,
      "outputs": [
        {
          "output_type": "execute_result",
          "data": {
            "text/plain": [
              "'meerut'"
            ],
            "application/vnd.google.colaboratory.intrinsic+json": {
              "type": "string"
            }
          },
          "metadata": {},
          "execution_count": 10
        }
      ]
    },
    {
      "cell_type": "markdown",
      "source": [
        "upper()"
      ],
      "metadata": {
        "id": "AD9YEF-BKGzR"
      }
    },
    {
      "cell_type": "code",
      "source": [
        "new['place'].upper()"
      ],
      "metadata": {
        "colab": {
          "base_uri": "https://localhost:8080/",
          "height": 36
        },
        "id": "ug5V_B0TMkwX",
        "outputId": "c27b7f9d-5051-45c2-a821-6b3d2dc9125b"
      },
      "execution_count": 12,
      "outputs": [
        {
          "output_type": "execute_result",
          "data": {
            "text/plain": [
              "'MEERUT'"
            ],
            "application/vnd.google.colaboratory.intrinsic+json": {
              "type": "string"
            }
          },
          "metadata": {},
          "execution_count": 12
        }
      ]
    },
    {
      "cell_type": "markdown",
      "source": [
        "update()"
      ],
      "metadata": {
        "id": "KbCCOf5yMtbA"
      }
    },
    {
      "cell_type": "code",
      "source": [
        "new.update({'place':'bagpat'})\n",
        "print(new)"
      ],
      "metadata": {
        "colab": {
          "base_uri": "https://localhost:8080/"
        },
        "id": "GtG3R8hgMvAg",
        "outputId": "0f5fdadf-4691-4379-c6bf-81b41054943a"
      },
      "execution_count": 16,
      "outputs": [
        {
          "output_type": "stream",
          "name": "stdout",
          "text": [
            "{'name': 'chirag', 'place': 'bagpat', 1: 2}\n"
          ]
        }
      ]
    },
    {
      "cell_type": "markdown",
      "source": [
        "zip() combine different key and value"
      ],
      "metadata": {
        "id": "610IZRn1M8lC"
      }
    },
    {
      "cell_type": "code",
      "source": [
        "country_list=['india','australia','usa']\n",
        "city_list=['new delhi','canbera','wdc']\n",
        "country_city_list=list(zip(country_list,city_list))\n",
        "print(country_city_list)"
      ],
      "metadata": {
        "colab": {
          "base_uri": "https://localhost:8080/"
        },
        "id": "i7BN-WR7NC5M",
        "outputId": "6b40b383-2ed7-468e-cefe-f8d097254763"
      },
      "execution_count": 17,
      "outputs": [
        {
          "output_type": "stream",
          "name": "stdout",
          "text": [
            "[('india', 'new delhi'), ('australia', 'canbera'), ('usa', 'wdc')]\n"
          ]
        }
      ]
    },
    {
      "cell_type": "markdown",
      "source": [
        "dict() gives output in format of key,value"
      ],
      "metadata": {
        "id": "zDwzx8tfNe3c"
      }
    },
    {
      "cell_type": "code",
      "source": [
        "dict(country_city_list)"
      ],
      "metadata": {
        "colab": {
          "base_uri": "https://localhost:8080/"
        },
        "id": "gjf3kLEUNmMU",
        "outputId": "9da6165d-f11b-4fab-802f-5ec69135a38b"
      },
      "execution_count": 18,
      "outputs": [
        {
          "output_type": "execute_result",
          "data": {
            "text/plain": [
              "{'india': 'new delhi', 'australia': 'canbera', 'usa': 'wdc'}"
            ]
          },
          "metadata": {},
          "execution_count": 18
        }
      ]
    },
    {
      "cell_type": "markdown",
      "source": [
        "pop()\n"
      ],
      "metadata": {
        "id": "hUcL4V1uNtRc"
      }
    },
    {
      "cell_type": "code",
      "source": [
        "country_city_dict=dict(country_city_list)\n",
        "country_city_dict.pop('india')"
      ],
      "metadata": {
        "colab": {
          "base_uri": "https://localhost:8080/",
          "height": 36
        },
        "id": "E2a2R7SxN1GL",
        "outputId": "95a9a73f-a3e4-47ca-957e-33fbafe41c3d"
      },
      "execution_count": 24,
      "outputs": [
        {
          "output_type": "execute_result",
          "data": {
            "text/plain": [
              "'new delhi'"
            ],
            "application/vnd.google.colaboratory.intrinsic+json": {
              "type": "string"
            }
          },
          "metadata": {},
          "execution_count": 24
        }
      ]
    }
  ]
}