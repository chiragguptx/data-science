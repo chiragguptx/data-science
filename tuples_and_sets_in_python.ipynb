{
  "nbformat": 4,
  "nbformat_minor": 0,
  "metadata": {
    "colab": {
      "provenance": [],
      "authorship_tag": "ABX9TyNljkvwQC/cvy5Mc+EWSoHX",
      "include_colab_link": true
    },
    "kernelspec": {
      "name": "python3",
      "display_name": "Python 3"
    },
    "language_info": {
      "name": "python"
    }
  },
  "cells": [
    {
      "cell_type": "markdown",
      "metadata": {
        "id": "view-in-github",
        "colab_type": "text"
      },
      "source": [
        "<a href=\"https://colab.research.google.com/github/chiragguptx/data-science/blob/main/tuples_and_sets_in_python.ipynb\" target=\"_parent\"><img src=\"https://colab.research.google.com/assets/colab-badge.svg\" alt=\"Open In Colab\"/></a>"
      ]
    },
    {
      "cell_type": "code",
      "execution_count": 5,
      "metadata": {
        "id": "fL2upkvpiuoH"
      },
      "outputs": [],
      "source": [
        "#[TUPLES] tuples are immutable ie they can not be changed\n",
        "list=[]\n",
        "tuples=()#"
      ]
    },
    {
      "cell_type": "markdown",
      "source": [
        "tuple"
      ],
      "metadata": {
        "id": "loR4kYCWjHcN"
      }
    },
    {
      "cell_type": "code",
      "source": [
        "my_tuple=(1,'a',3)\n",
        "print(my_tuple)\n",
        "print(type(my_tuple))\n",
        "print(len(my_tuple))"
      ],
      "metadata": {
        "colab": {
          "base_uri": "https://localhost:8080/"
        },
        "id": "uJ5it1ZLjGEw",
        "outputId": "9fe416ca-b91a-424c-dd8d-7ed18f542dc8"
      },
      "execution_count": 4,
      "outputs": [
        {
          "output_type": "stream",
          "name": "stdout",
          "text": [
            "(1, 'a', 3)\n",
            "<class 'tuple'>\n",
            "3\n"
          ]
        }
      ]
    },
    {
      "cell_type": "markdown",
      "source": [
        "indexing"
      ],
      "metadata": {
        "id": "wBlDC6CfjYsm"
      }
    },
    {
      "cell_type": "code",
      "source": [
        "my_tuple=(1,'a',3)\n",
        "my_tuple[1]"
      ],
      "metadata": {
        "colab": {
          "base_uri": "https://localhost:8080/",
          "height": 36
        },
        "id": "60-MwJOajaQ0",
        "outputId": "d00ea358-318e-4f08-ea49-8c2779b62e49"
      },
      "execution_count": 3,
      "outputs": [
        {
          "output_type": "execute_result",
          "data": {
            "text/plain": [
              "'a'"
            ],
            "application/vnd.google.colaboratory.intrinsic+json": {
              "type": "string"
            }
          },
          "metadata": {},
          "execution_count": 3
        }
      ]
    },
    {
      "cell_type": "markdown",
      "source": [
        "all other functions are same"
      ],
      "metadata": {
        "id": "pxjCz77Yjs2r"
      }
    },
    {
      "cell_type": "markdown",
      "source": [
        "[SETS]\n"
      ],
      "metadata": {
        "id": "6e5Upb6Hj9EC"
      }
    },
    {
      "cell_type": "markdown",
      "source": [
        "collection of unique elements\n",
        "sets are like lists(mutablle ie changeable)\n",
        "empty set=()\n",
        "non-empty set={}"
      ],
      "metadata": {
        "id": "FmJWo80ikFZl"
      }
    },
    {
      "cell_type": "code",
      "source": [
        "empty_set=set()\n",
        "type(empty_set)\n",
        "#if empty set={} then it is dictionary#\n",
        "my_set={}\n",
        "type(my_set)"
      ],
      "metadata": {
        "colab": {
          "base_uri": "https://localhost:8080/"
        },
        "id": "2ss3hf0-AMb8",
        "outputId": "f47e9643-b1e3-4b27-e3a2-b38aed636c97"
      },
      "execution_count": 8,
      "outputs": [
        {
          "output_type": "execute_result",
          "data": {
            "text/plain": [
              "dict"
            ]
          },
          "metadata": {},
          "execution_count": 8
        }
      ]
    },
    {
      "cell_type": "markdown",
      "source": [
        "removing duplicate elments using sets"
      ],
      "metadata": {
        "id": "Yi5IxEICBB8p"
      }
    },
    {
      "cell_type": "code",
      "source": [
        "my_list=[1,2,3,4,2,2,3,4,1,5,6,22,53]\n",
        "my_set=set(my_list)\n",
        "print(my_set)"
      ],
      "metadata": {
        "colab": {
          "base_uri": "https://localhost:8080/"
        },
        "id": "vqHOp-jHBIm0",
        "outputId": "60118419-011a-4da6-cc5b-e974ffa915f2"
      },
      "execution_count": 9,
      "outputs": [
        {
          "output_type": "stream",
          "name": "stdout",
          "text": [
            "{1, 2, 3, 4, 5, 6, 53, 22}\n"
          ]
        }
      ]
    }
  ]
}