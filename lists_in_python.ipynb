{
  "nbformat": 4,
  "nbformat_minor": 0,
  "metadata": {
    "colab": {
      "provenance": [],
      "authorship_tag": "ABX9TyMgIAdZrckv9Aum4jfM5pSc",
      "include_colab_link": true
    },
    "kernelspec": {
      "name": "python3",
      "display_name": "Python 3"
    },
    "language_info": {
      "name": "python"
    }
  },
  "cells": [
    {
      "cell_type": "markdown",
      "metadata": {
        "id": "view-in-github",
        "colab_type": "text"
      },
      "source": [
        "<a href=\"https://colab.research.google.com/github/chiragguptx/data-science/blob/main/lists_in_python.ipynb\" target=\"_parent\"><img src=\"https://colab.research.google.com/assets/colab-badge.svg\" alt=\"Open In Colab\"/></a>"
      ]
    },
    {
      "cell_type": "markdown",
      "source": [],
      "metadata": {
        "id": "xjsbCB5o9N4m"
      }
    },
    {
      "cell_type": "markdown",
      "source": [
        "***LIST***"
      ],
      "metadata": {
        "id": "9N_voGAz9ZH5"
      }
    },
    {
      "cell_type": "code",
      "source": [
        "my_list=['a',1,23,'o',True]\n",
        "print(my_list)\n",
        "print(type(my_list))"
      ],
      "metadata": {
        "colab": {
          "base_uri": "https://localhost:8080/"
        },
        "id": "BUIBLxMV9bs1",
        "outputId": "09d73af8-be72-444c-8396-7f58900a30da"
      },
      "execution_count": 7,
      "outputs": [
        {
          "output_type": "stream",
          "name": "stdout",
          "text": [
            "['a', 1, 23, 'o', True]\n",
            "<class 'list'>\n"
          ]
        }
      ]
    },
    {
      "cell_type": "markdown",
      "source": [
        "length\n"
      ],
      "metadata": {
        "id": "UtCqFwac99q4"
      }
    },
    {
      "cell_type": "code",
      "source": [
        "len(my_list)\n"
      ],
      "metadata": {
        "colab": {
          "base_uri": "https://localhost:8080/"
        },
        "id": "spj4zqud-Aey",
        "outputId": "c8454f86-f1ed-428c-c209-d68769e0e2e5"
      },
      "execution_count": 12,
      "outputs": [
        {
          "output_type": "execute_result",
          "data": {
            "text/plain": [
              "5"
            ]
          },
          "metadata": {},
          "execution_count": 12
        }
      ]
    },
    {
      "cell_type": "markdown",
      "source": [
        "index"
      ],
      "metadata": {
        "id": "2fqGgHS1-RWQ"
      }
    },
    {
      "cell_type": "code",
      "source": [
        "\n",
        "print(my_list[2])\n",
        "print(my_list[-1])"
      ],
      "metadata": {
        "colab": {
          "base_uri": "https://localhost:8080/"
        },
        "id": "0HET023X-U13",
        "outputId": "693288b7-04ef-4f91-e70f-0bf7a14988a4"
      },
      "execution_count": 20,
      "outputs": [
        {
          "output_type": "stream",
          "name": "stdout",
          "text": [
            "23\n",
            "True\n"
          ]
        }
      ]
    },
    {
      "cell_type": "markdown",
      "source": [],
      "metadata": {
        "id": "7xhiPqhm_N9N"
      }
    },
    {
      "cell_type": "markdown",
      "source": [
        "slicing"
      ],
      "metadata": {
        "id": "iNczHDWl_OHj"
      }
    },
    {
      "cell_type": "code",
      "source": [
        "my_list=['a',1,23,'o',True]\n",
        "print(my_list[1:4])\n",
        "print(my_list[:4])\n",
        "print(my_list[1:])\n",
        "print(my_list[:])\n",
        "print(my_list[0:4:2])"
      ],
      "metadata": {
        "colab": {
          "base_uri": "https://localhost:8080/"
        },
        "id": "Hib2hXr4_PEp",
        "outputId": "e6271077-7914-40ec-d8ec-314b366159be"
      },
      "execution_count": 26,
      "outputs": [
        {
          "output_type": "stream",
          "name": "stdout",
          "text": [
            "[1, 23, 'o']\n",
            "['a', 1, 23, 'o']\n",
            "[1, 23, 'o', True]\n",
            "['a', 1, 23, 'o', True]\n",
            "['a', 23]\n"
          ]
        }
      ]
    },
    {
      "cell_type": "markdown",
      "source": [
        "list operations"
      ],
      "metadata": {
        "id": "QLX5nj5H_751"
      }
    },
    {
      "cell_type": "code",
      "source": [],
      "metadata": {
        "id": "J1ws9FkF__f2"
      },
      "execution_count": null,
      "outputs": []
    }
  ]
}