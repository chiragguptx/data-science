{
  "nbformat": 4,
  "nbformat_minor": 0,
  "metadata": {
    "colab": {
      "provenance": [],
      "authorship_tag": "ABX9TyOW3ednc1DSKIO2E3f8mhjG",
      "include_colab_link": true
    },
    "kernelspec": {
      "name": "python3",
      "display_name": "Python 3"
    },
    "language_info": {
      "name": "python"
    }
  },
  "cells": [
    {
      "cell_type": "markdown",
      "metadata": {
        "id": "view-in-github",
        "colab_type": "text"
      },
      "source": [
        "<a href=\"https://colab.research.google.com/github/chiragguptx/data-science/blob/main/tuples_and_sets_in_python.ipynb\" target=\"_parent\"><img src=\"https://colab.research.google.com/assets/colab-badge.svg\" alt=\"Open In Colab\"/></a>"
      ]
    },
    {
      "cell_type": "code",
      "execution_count": 5,
      "metadata": {
        "id": "fL2upkvpiuoH"
      },
      "outputs": [],
      "source": [
        "#[TUPLES] tuples are immutable ie they can not be changed\n",
        "list=[]\n",
        "tuples=()#"
      ]
    },
    {
      "cell_type": "markdown",
      "source": [
        "tuple"
      ],
      "metadata": {
        "id": "loR4kYCWjHcN"
      }
    },
    {
      "cell_type": "code",
      "source": [
        "my_tuple=(1,'a',3)\n",
        "print(my_tuple)\n",
        "print(type(my_tuple))\n",
        "print(len(my_tuple))"
      ],
      "metadata": {
        "colab": {
          "base_uri": "https://localhost:8080/"
        },
        "id": "uJ5it1ZLjGEw",
        "outputId": "9fe416ca-b91a-424c-dd8d-7ed18f542dc8"
      },
      "execution_count": 4,
      "outputs": [
        {
          "output_type": "stream",
          "name": "stdout",
          "text": [
            "(1, 'a', 3)\n",
            "<class 'tuple'>\n",
            "3\n"
          ]
        }
      ]
    },
    {
      "cell_type": "markdown",
      "source": [
        "indexing"
      ],
      "metadata": {
        "id": "wBlDC6CfjYsm"
      }
    },
    {
      "cell_type": "code",
      "source": [
        "my_tuple=(1,'a',3)\n",
        "my_tuple[1]"
      ],
      "metadata": {
        "colab": {
          "base_uri": "https://localhost:8080/",
          "height": 36
        },
        "id": "60-MwJOajaQ0",
        "outputId": "d00ea358-318e-4f08-ea49-8c2779b62e49"
      },
      "execution_count": 3,
      "outputs": [
        {
          "output_type": "execute_result",
          "data": {
            "text/plain": [
              "'a'"
            ],
            "application/vnd.google.colaboratory.intrinsic+json": {
              "type": "string"
            }
          },
          "metadata": {},
          "execution_count": 3
        }
      ]
    },
    {
      "cell_type": "markdown",
      "source": [
        "all other functions are same"
      ],
      "metadata": {
        "id": "pxjCz77Yjs2r"
      }
    },
    {
      "cell_type": "markdown",
      "source": [
        "[SETS]\n"
      ],
      "metadata": {
        "id": "6e5Upb6Hj9EC"
      }
    },
    {
      "cell_type": "markdown",
      "source": [
        "collection of unique elements\n",
        "sets are like lists(mutablle ie changeable)\n",
        "empty set=()\n",
        "non-empty set={}"
      ],
      "metadata": {
        "id": "FmJWo80ikFZl"
      }
    },
    {
      "cell_type": "code",
      "source": [
        "empty_set=set()\n",
        "type(empty_set)\n",
        "#if empty set={} then it is dictionary#\n",
        "my_set={}\n",
        "type(my_set)"
      ],
      "metadata": {
        "colab": {
          "base_uri": "https://localhost:8080/"
        },
        "id": "2ss3hf0-AMb8",
        "outputId": "f47e9643-b1e3-4b27-e3a2-b38aed636c97"
      },
      "execution_count": 8,
      "outputs": [
        {
          "output_type": "execute_result",
          "data": {
            "text/plain": [
              "dict"
            ]
          },
          "metadata": {},
          "execution_count": 8
        }
      ]
    },
    {
      "cell_type": "markdown",
      "source": [
        "removing duplicate elments using sets"
      ],
      "metadata": {
        "id": "Yi5IxEICBB8p"
      }
    },
    {
      "cell_type": "code",
      "source": [
        "my_list=[1,2,3,4,2,2,3,4,1,5,6,22,53]\n",
        "my_set=set(my_list)\n",
        "print(my_set)"
      ],
      "metadata": {
        "colab": {
          "base_uri": "https://localhost:8080/"
        },
        "id": "vqHOp-jHBIm0",
        "outputId": "60118419-011a-4da6-cc5b-e974ffa915f2"
      },
      "execution_count": 9,
      "outputs": [
        {
          "output_type": "stream",
          "name": "stdout",
          "text": [
            "{1, 2, 3, 4, 5, 6, 53, 22}\n"
          ]
        }
      ]
    },
    {
      "cell_type": "markdown",
      "source": [
        "add()"
      ],
      "metadata": {
        "id": "55taZgLICRKc"
      }
    },
    {
      "cell_type": "code",
      "source": [
        "my_set=set()\n",
        "my_set.add('c')\n",
        "my_set.add(2)\n",
        "print(my_set)"
      ],
      "metadata": {
        "colab": {
          "base_uri": "https://localhost:8080/"
        },
        "id": "KWrCi-a6CSYd",
        "outputId": "c7c3d8b1-adf9-4096-da72-a93be0ac5c1b"
      },
      "execution_count": 10,
      "outputs": [
        {
          "output_type": "stream",
          "name": "stdout",
          "text": [
            "{'c', 2}\n"
          ]
        }
      ]
    },
    {
      "cell_type": "markdown",
      "source": [
        "update()"
      ],
      "metadata": {
        "id": "dH4wLiKvCnM6"
      }
    },
    {
      "cell_type": "code",
      "source": [
        "my_set={1,2,3,5}\n",
        "my_set.update([8,7,6])\n",
        "print(my_set)"
      ],
      "metadata": {
        "colab": {
          "base_uri": "https://localhost:8080/"
        },
        "id": "3uhwja0eCpMo",
        "outputId": "0be6c1e0-d8b7-498c-a6b4-9e1a6f0210d9"
      },
      "execution_count": 13,
      "outputs": [
        {
          "output_type": "stream",
          "name": "stdout",
          "text": [
            "{1, 2, 3, 5, 6, 7, 8}\n"
          ]
        }
      ]
    },
    {
      "cell_type": "markdown",
      "source": [
        "remove()- remove an element by its name\n"
      ],
      "metadata": {
        "id": "H5IpewC6DXMV"
      }
    },
    {
      "cell_type": "code",
      "source": [
        "my_set={1,2,3,5}\n",
        "my_set.remove(1)\n",
        "print(my_set)"
      ],
      "metadata": {
        "colab": {
          "base_uri": "https://localhost:8080/"
        },
        "id": "PfG2wwtNDaDj",
        "outputId": "a4f587fd-feb9-4c92-82b6-dad3b2b3fd25"
      },
      "execution_count": 16,
      "outputs": [
        {
          "output_type": "stream",
          "name": "stdout",
          "text": [
            "{2, 3, 5}\n"
          ]
        }
      ]
    },
    {
      "cell_type": "markdown",
      "source": [
        "union()"
      ],
      "metadata": {
        "id": "eEwfgO3cD6zP"
      }
    },
    {
      "cell_type": "code",
      "source": [
        "a={1,2,3,4,5}\n",
        "b={5,6,7,8,9}\n",
        "print(a.union(b))\n",
        "print(a|b)"
      ],
      "metadata": {
        "colab": {
          "base_uri": "https://localhost:8080/"
        },
        "id": "1XlycKr4D86V",
        "outputId": "93716dff-bab8-4d28-970b-a102091648bc"
      },
      "execution_count": 19,
      "outputs": [
        {
          "output_type": "stream",
          "name": "stdout",
          "text": [
            "{1, 2, 3, 4, 5, 6, 7, 8, 9}\n",
            "{1, 2, 3, 4, 5, 6, 7, 8, 9}\n"
          ]
        }
      ]
    },
    {
      "cell_type": "markdown",
      "source": [
        "intersection()"
      ],
      "metadata": {
        "id": "lPWV1iC9EUhm"
      }
    },
    {
      "cell_type": "code",
      "source": [
        "a={1,2,3,4,5}\n",
        "b={5,6,7,8,9}\n",
        "print(a.intersection(b))\n",
        "print(a&b)"
      ],
      "metadata": {
        "colab": {
          "base_uri": "https://localhost:8080/"
        },
        "id": "ioTgfQ-UEWxG",
        "outputId": "62c6134a-bfe4-4564-d409-9707c5712994"
      },
      "execution_count": 22,
      "outputs": [
        {
          "output_type": "stream",
          "name": "stdout",
          "text": [
            "{5}\n",
            "{5}\n"
          ]
        }
      ]
    },
    {
      "cell_type": "markdown",
      "source": [
        "difference()"
      ],
      "metadata": {
        "id": "rPJj3xAzEliQ"
      }
    },
    {
      "cell_type": "code",
      "source": [
        "a={1,2,3,4,5}\n",
        "b={5,6,7,8,9}\n",
        "print(a.difference(b))\n",
        "print(a-b)\n",
        "print(b.difference(a))\n",
        "print(b-a)"
      ],
      "metadata": {
        "colab": {
          "base_uri": "https://localhost:8080/"
        },
        "id": "RItpNlKIEol-",
        "outputId": "212e6675-941f-43d4-c4a0-59c68773b44d"
      },
      "execution_count": 25,
      "outputs": [
        {
          "output_type": "stream",
          "name": "stdout",
          "text": [
            "{1, 2, 3, 4}\n",
            "{1, 2, 3, 4}\n",
            "{8, 9, 6, 7}\n",
            "{8, 9, 6, 7}\n"
          ]
        }
      ]
    },
    {
      "cell_type": "markdown",
      "source": [
        "symmetric difference()"
      ],
      "metadata": {
        "id": "hb-I04tgE6DG"
      }
    },
    {
      "cell_type": "code",
      "source": [
        "a={1,2,3,4,5}\n",
        "b={5,6,7,8,9}\n",
        "print(a.symmetric_difference(b))\n",
        "print(a^b)"
      ],
      "metadata": {
        "colab": {
          "base_uri": "https://localhost:8080/"
        },
        "id": "-Sp-smrqE7hS",
        "outputId": "d1e04d33-8916-455b-d59c-57b7bb6fc91a"
      },
      "execution_count": 27,
      "outputs": [
        {
          "output_type": "stream",
          "name": "stdout",
          "text": [
            "{1, 2, 3, 4, 6, 7, 8, 9}\n",
            "{1, 2, 3, 4, 6, 7, 8, 9}\n"
          ]
        }
      ]
    }
  ]
}