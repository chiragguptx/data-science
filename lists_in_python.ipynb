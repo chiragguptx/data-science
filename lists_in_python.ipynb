{
  "nbformat": 4,
  "nbformat_minor": 0,
  "metadata": {
    "colab": {
      "provenance": [],
      "authorship_tag": "ABX9TyP8GFTmp/0m/CckrT9Z+zES",
      "include_colab_link": true
    },
    "kernelspec": {
      "name": "python3",
      "display_name": "Python 3"
    },
    "language_info": {
      "name": "python"
    }
  },
  "cells": [
    {
      "cell_type": "markdown",
      "metadata": {
        "id": "view-in-github",
        "colab_type": "text"
      },
      "source": [
        "<a href=\"https://colab.research.google.com/github/chiragguptx/data-science/blob/main/lists_in_python.ipynb\" target=\"_parent\"><img src=\"https://colab.research.google.com/assets/colab-badge.svg\" alt=\"Open In Colab\"/></a>"
      ]
    },
    {
      "cell_type": "markdown",
      "source": [
        "[LIST]"
      ],
      "metadata": {
        "id": "9N_voGAz9ZH5"
      }
    },
    {
      "cell_type": "code",
      "source": [
        "my_list=['a',1,23,'o',True]\n",
        "print(my_list)\n",
        "print(type(my_list))"
      ],
      "metadata": {
        "colab": {
          "base_uri": "https://localhost:8080/"
        },
        "id": "BUIBLxMV9bs1",
        "outputId": "09d73af8-be72-444c-8396-7f58900a30da"
      },
      "execution_count": 7,
      "outputs": [
        {
          "output_type": "stream",
          "name": "stdout",
          "text": [
            "['a', 1, 23, 'o', True]\n",
            "<class 'list'>\n"
          ]
        }
      ]
    },
    {
      "cell_type": "markdown",
      "source": [
        "length\n"
      ],
      "metadata": {
        "id": "UtCqFwac99q4"
      }
    },
    {
      "cell_type": "code",
      "source": [
        "len(my_list)\n"
      ],
      "metadata": {
        "colab": {
          "base_uri": "https://localhost:8080/"
        },
        "id": "spj4zqud-Aey",
        "outputId": "c8454f86-f1ed-428c-c209-d68769e0e2e5"
      },
      "execution_count": 12,
      "outputs": [
        {
          "output_type": "execute_result",
          "data": {
            "text/plain": [
              "5"
            ]
          },
          "metadata": {},
          "execution_count": 12
        }
      ]
    },
    {
      "cell_type": "markdown",
      "source": [
        "index"
      ],
      "metadata": {
        "id": "2fqGgHS1-RWQ"
      }
    },
    {
      "cell_type": "code",
      "source": [
        "\n",
        "print(my_list[2])\n",
        "print(my_list[-1])"
      ],
      "metadata": {
        "colab": {
          "base_uri": "https://localhost:8080/"
        },
        "id": "0HET023X-U13",
        "outputId": "693288b7-04ef-4f91-e70f-0bf7a14988a4"
      },
      "execution_count": 20,
      "outputs": [
        {
          "output_type": "stream",
          "name": "stdout",
          "text": [
            "23\n",
            "True\n"
          ]
        }
      ]
    },
    {
      "cell_type": "markdown",
      "source": [
        "slicing"
      ],
      "metadata": {
        "id": "iNczHDWl_OHj"
      }
    },
    {
      "cell_type": "code",
      "source": [
        "my_list=['a',1,23,'o',True]\n",
        "print(my_list[1:4])\n",
        "print(my_list[:4])\n",
        "print(my_list[1:])\n",
        "print(my_list[:])\n",
        "print(my_list[0:4:2])"
      ],
      "metadata": {
        "colab": {
          "base_uri": "https://localhost:8080/"
        },
        "id": "Hib2hXr4_PEp",
        "outputId": "e6271077-7914-40ec-d8ec-314b366159be"
      },
      "execution_count": 26,
      "outputs": [
        {
          "output_type": "stream",
          "name": "stdout",
          "text": [
            "[1, 23, 'o']\n",
            "['a', 1, 23, 'o']\n",
            "[1, 23, 'o', True]\n",
            "['a', 1, 23, 'o', True]\n",
            "['a', 23]\n"
          ]
        }
      ]
    },
    {
      "cell_type": "markdown",
      "source": [
        "[list operations]"
      ],
      "metadata": {
        "id": "QLX5nj5H_751"
      }
    },
    {
      "cell_type": "markdown",
      "source": [
        "to add element in list through +\n"
      ],
      "metadata": {
        "id": "56QqZIHkX6YI"
      }
    },
    {
      "cell_type": "code",
      "source": [
        "my_list=['a',1,23,'o',True]\n",
        "my_list+['f']\n",
        "print(my_list)\n",
        "# it we want permanent then:-#\n",
        "my_list=my_list+[4]\n",
        "print(my_list)"
      ],
      "metadata": {
        "colab": {
          "base_uri": "https://localhost:8080/"
        },
        "id": "4PhWakb1X_9n",
        "outputId": "baba52b5-d50f-42ad-ac3e-e85e90ba8902"
      },
      "execution_count": 11,
      "outputs": [
        {
          "output_type": "stream",
          "name": "stdout",
          "text": [
            "['a', 1, 23, 'o', True]\n",
            "['a', 1, 23, 'o', True, 4]\n"
          ]
        }
      ]
    },
    {
      "cell_type": "markdown",
      "source": [
        "min() and max()\n"
      ],
      "metadata": {
        "id": "uA8H2nTWZNMt"
      }
    },
    {
      "cell_type": "code",
      "source": [
        "my_nlist=[2,3,4,65,33,6443,332]\n",
        "min(my_nlist)\n",
        "my_mlist=['q','w','A','z']\n",
        "max(my_mlist)"
      ],
      "metadata": {
        "colab": {
          "base_uri": "https://localhost:8080/",
          "height": 36
        },
        "id": "YAZWjCBjZOtC",
        "outputId": "d9260a7f-0082-4ef7-c730-1c19b07813b5"
      },
      "execution_count": 17,
      "outputs": [
        {
          "output_type": "execute_result",
          "data": {
            "text/plain": [
              "'z'"
            ],
            "application/vnd.google.colaboratory.intrinsic+json": {
              "type": "string"
            }
          },
          "metadata": {},
          "execution_count": 17
        }
      ]
    },
    {
      "cell_type": "markdown",
      "source": [
        "sum()\n"
      ],
      "metadata": {
        "id": "ecMNQEKUdT7g"
      }
    },
    {
      "cell_type": "code",
      "source": [
        "sum(my_nlist)"
      ],
      "metadata": {
        "colab": {
          "base_uri": "https://localhost:8080/"
        },
        "id": "M_YBd4hAdV37",
        "outputId": "5087ec6c-ffab-49a0-c902-01e4200b68cd"
      },
      "execution_count": 20,
      "outputs": [
        {
          "output_type": "execute_result",
          "data": {
            "text/plain": [
              "6882"
            ]
          },
          "metadata": {},
          "execution_count": 20
        }
      ]
    },
    {
      "cell_type": "markdown",
      "source": [
        "sorted()"
      ],
      "metadata": {
        "id": "5KP2sknPdiw6"
      }
    },
    {
      "cell_type": "code",
      "source": [
        "my_nlist=[2,3,4,65,33,6443,332,3,4,22,32,15,11]\n",
        "#default is ascending#\n",
        "print(sorted(my_nlist))\n",
        "print(sorted(my_nlist,reverse=True))"
      ],
      "metadata": {
        "colab": {
          "base_uri": "https://localhost:8080/"
        },
        "id": "WMDmbvJOdkpG",
        "outputId": "c60fab4e-e040-400d-9cc0-44a9432d7bd0"
      },
      "execution_count": 28,
      "outputs": [
        {
          "output_type": "stream",
          "name": "stdout",
          "text": [
            "[2, 3, 3, 4, 4, 11, 15, 22, 32, 33, 65, 332, 6443]\n",
            "[6443, 332, 65, 33, 32, 22, 15, 11, 4, 4, 3, 3, 2]\n"
          ]
        }
      ]
    },
    {
      "cell_type": "markdown",
      "source": [
        "[LIST METHOD]"
      ],
      "metadata": {
        "id": "B67jFz1reiKG"
      }
    },
    {
      "cell_type": "markdown",
      "source": [
        "append()"
      ],
      "metadata": {
        "id": "x68s7xdNfD-i"
      }
    },
    {
      "cell_type": "code",
      "source": [
        "my_list=['a',1,23,'o',True]\n",
        "my_list.append([4,5,6])\n",
        "print(my_list)"
      ],
      "metadata": {
        "colab": {
          "base_uri": "https://localhost:8080/"
        },
        "id": "bFziu3I7fG_a",
        "outputId": "95987842-265a-4f10-ed48-d9c4d4d1f6d4"
      },
      "execution_count": 32,
      "outputs": [
        {
          "output_type": "stream",
          "name": "stdout",
          "text": [
            "['a', 1, 23, 'o', True, [4, 5, 6]]\n"
          ]
        }
      ]
    },
    {
      "cell_type": "markdown",
      "source": [
        "extend()\n"
      ],
      "metadata": {
        "id": "T9CGQIpIfoFn"
      }
    },
    {
      "cell_type": "code",
      "source": [
        "my_list.extend([4,5,6])\n",
        "print(my_list)"
      ],
      "metadata": {
        "colab": {
          "base_uri": "https://localhost:8080/"
        },
        "id": "afgBHyHofpzk",
        "outputId": "76aaa32c-1b70-4b47-d71d-e9d8bad0969f"
      },
      "execution_count": 33,
      "outputs": [
        {
          "output_type": "stream",
          "name": "stdout",
          "text": [
            "['a', 1, 23, 'o', True, [4, 5, 6], 4, 5, 6]\n"
          ]
        }
      ]
    },
    {
      "cell_type": "markdown",
      "source": [
        "pop()"
      ],
      "metadata": {
        "id": "nM1MKtY3f0bn"
      }
    },
    {
      "cell_type": "code",
      "source": [
        "my_list=['a',1,23,'o',True]\n",
        "my_list.pop(3)\n",
        "print(my_list)"
      ],
      "metadata": {
        "colab": {
          "base_uri": "https://localhost:8080/"
        },
        "id": "_tCYyJn7gMZV",
        "outputId": "bae6be96-5d20-44f4-af54-88c1ee7e3608"
      },
      "execution_count": 45,
      "outputs": [
        {
          "output_type": "stream",
          "name": "stdout",
          "text": [
            "['a', 1, 23, True]\n"
          ]
        }
      ]
    },
    {
      "cell_type": "markdown",
      "source": [
        "remove()"
      ],
      "metadata": {
        "id": "esDEPJfZgd4s"
      }
    },
    {
      "cell_type": "code",
      "source": [
        "my_list=['a',1,1,2,2,2,23,'o',True]\n",
        "my_list.remove('a')\n",
        "print(my_list)"
      ],
      "metadata": {
        "colab": {
          "base_uri": "https://localhost:8080/"
        },
        "id": "2UhI5IPhgfdz",
        "outputId": "7b40c6a7-4534-4f17-ad5b-5d3b69733e51"
      },
      "execution_count": 48,
      "outputs": [
        {
          "output_type": "stream",
          "name": "stdout",
          "text": [
            "[1, 1, 2, 2, 2, 23, 'o', True]\n"
          ]
        }
      ]
    },
    {
      "cell_type": "markdown",
      "source": [
        "count()"
      ],
      "metadata": {
        "id": "qf2EKceygu_o"
      }
    },
    {
      "cell_type": "code",
      "source": [
        "my_list=['a',1,1,2,2,2,23,'o',True]\n",
        "my_list.count(2)"
      ],
      "metadata": {
        "colab": {
          "base_uri": "https://localhost:8080/"
        },
        "id": "Jota45ppgwYP",
        "outputId": "46745b26-5952-477a-c51c-fb7b8e5a5826"
      },
      "execution_count": 50,
      "outputs": [
        {
          "output_type": "execute_result",
          "data": {
            "text/plain": [
              "3"
            ]
          },
          "metadata": {},
          "execution_count": 50
        }
      ]
    },
    {
      "cell_type": "markdown",
      "source": [
        "index()"
      ],
      "metadata": {
        "id": "G64APXdchAxH"
      }
    },
    {
      "cell_type": "code",
      "source": [
        "my_list.index(2)"
      ],
      "metadata": {
        "colab": {
          "base_uri": "https://localhost:8080/"
        },
        "id": "Cjc-kBxjhCUW",
        "outputId": "e78901e0-f8a0-4cf9-bddb-92378b176257"
      },
      "execution_count": 52,
      "outputs": [
        {
          "output_type": "execute_result",
          "data": {
            "text/plain": [
              "3"
            ]
          },
          "metadata": {},
          "execution_count": 52
        }
      ]
    },
    {
      "cell_type": "markdown",
      "source": [
        "nested list"
      ],
      "metadata": {
        "id": "mwgKung_hOIM"
      }
    },
    {
      "cell_type": "code",
      "source": [
        "l1=[1,2,3]\n",
        "l2=['a','d','s']\n",
        "l3=[22,33,44]\n",
        "listoflist=[l1,l2,l3]\n",
        "print(listoflist)"
      ],
      "metadata": {
        "colab": {
          "base_uri": "https://localhost:8080/"
        },
        "id": "axofL8vPhP6F",
        "outputId": "dae4fcfa-e69d-4e9b-a824-e3e3df818a60"
      },
      "execution_count": 53,
      "outputs": [
        {
          "output_type": "stream",
          "name": "stdout",
          "text": [
            "[[1, 2, 3], ['a', 'd', 's'], [22, 33, 44]]\n"
          ]
        }
      ]
    }
  ]
}