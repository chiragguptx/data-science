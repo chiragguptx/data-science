{
  "nbformat": 4,
  "nbformat_minor": 0,
  "metadata": {
    "colab": {
      "provenance": [],
      "authorship_tag": "ABX9TyN6UQCj188acWXdFqxOGXf8",
      "include_colab_link": true
    },
    "kernelspec": {
      "name": "python3",
      "display_name": "Python 3"
    },
    "language_info": {
      "name": "python"
    }
  },
  "cells": [
    {
      "cell_type": "markdown",
      "metadata": {
        "id": "view-in-github",
        "colab_type": "text"
      },
      "source": [
        "<a href=\"https://colab.research.google.com/github/chiragguptx/data-science/blob/main/NUMPY.ipynb\" target=\"_parent\"><img src=\"https://colab.research.google.com/assets/colab-badge.svg\" alt=\"Open In Colab\"/></a>"
      ]
    },
    {
      "cell_type": "markdown",
      "source": [
        "[NUMPY]\n",
        "'numerical python'\n",
        "consists of multi dimensional arrays ,objects ,collection of routines\n",
        "vector/ matrix"
      ],
      "metadata": {
        "id": "I0srwJP3QM1u"
      }
    },
    {
      "cell_type": "markdown",
      "source": [
        "to import numpy"
      ],
      "metadata": {
        "id": "EPlv2DDGQbxh"
      }
    },
    {
      "cell_type": "code",
      "source": [
        "import numpy as np"
      ],
      "metadata": {
        "id": "Tr85oL97Qef5"
      },
      "execution_count": 1,
      "outputs": []
    },
    {
      "cell_type": "markdown",
      "source": [
        "one dimensional array"
      ],
      "metadata": {
        "id": "C9oL1U2JQjrB"
      }
    },
    {
      "cell_type": "code",
      "source": [
        "prime_array=np.array([2,3,5,7,99])\n",
        "print(prime_array)\n",
        "print(type(prime_array))\n"
      ],
      "metadata": {
        "colab": {
          "base_uri": "https://localhost:8080/"
        },
        "id": "8PsV9LFTQn0n",
        "outputId": "7591207d-0335-47f3-8305-a2e0c266d42f"
      },
      "execution_count": 3,
      "outputs": [
        {
          "output_type": "stream",
          "name": "stdout",
          "text": [
            "[ 2  3  5  7 99]\n",
            "<class 'numpy.ndarray'>\n"
          ]
        }
      ]
    },
    {
      "cell_type": "markdown",
      "source": [
        "two dimensional array"
      ],
      "metadata": {
        "id": "Fh7k6WENQ5Ci"
      }
    },
    {
      "cell_type": "code",
      "source": [
        "newarray=np.array([[2,3],[7,99]])\n",
        "print(newarray)"
      ],
      "metadata": {
        "colab": {
          "base_uri": "https://localhost:8080/"
        },
        "id": "o9OBqiivQ7QZ",
        "outputId": "f0b2ddb7-00ad-40ae-cf9b-7951dbaddd6d"
      },
      "execution_count": 6,
      "outputs": [
        {
          "output_type": "stream",
          "name": "stdout",
          "text": [
            "[[ 2  3]\n",
            " [ 7 99]]\n"
          ]
        }
      ]
    },
    {
      "cell_type": "markdown",
      "source": [
        "three dimensional array"
      ],
      "metadata": {
        "id": "dj3jEQhCRN4C"
      }
    },
    {
      "cell_type": "code",
      "source": [
        "threed_array=np.array([[[1,2],[3,4]],[[5,6],[7,8]]])\n",
        "print(threed_array)"
      ],
      "metadata": {
        "colab": {
          "base_uri": "https://localhost:8080/"
        },
        "id": "6MQW6_LGRP1l",
        "outputId": "f6f32dfd-1185-4290-f4c5-d446719f9039"
      },
      "execution_count": 9,
      "outputs": [
        {
          "output_type": "stream",
          "name": "stdout",
          "text": [
            "[[[1 2]\n",
            "  [3 4]]\n",
            "\n",
            " [[5 6]\n",
            "  [7 8]]]\n"
          ]
        }
      ]
    },
    {
      "cell_type": "code",
      "source": [
        "print(threed_array.shape)"
      ],
      "metadata": {
        "colab": {
          "base_uri": "https://localhost:8080/"
        },
        "id": "f6TBKlUtRqrQ",
        "outputId": "cc518889-ba34-4a7f-8586-afc8d6415012"
      },
      "execution_count": 10,
      "outputs": [
        {
          "output_type": "stream",
          "name": "stdout",
          "text": [
            "(2, 2, 2)\n"
          ]
        }
      ]
    }
  ]
}